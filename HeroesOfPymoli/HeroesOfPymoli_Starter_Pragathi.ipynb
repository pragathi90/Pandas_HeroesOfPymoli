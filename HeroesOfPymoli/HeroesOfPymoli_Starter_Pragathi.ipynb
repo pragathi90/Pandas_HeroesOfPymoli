{
 "cells": [
  {
   "cell_type": "markdown",
   "metadata": {},
   "source": [
    "### Heroes Of Pymoli Data Analysis\n",
    "* Of the 1163 active players, the vast majority are male (84%). There also exists, a smaller, but notable proportion of female players (14%).\n",
    "\n",
    "* Our peak age demographic falls between 20-24 (44.8%) with secondary groups falling between 15-19 (18.60%) and 25-29 (13.4%).  \n",
    "-----"
   ]
  },
  {
   "cell_type": "markdown",
   "metadata": {},
   "source": [
    "### Note\n",
    "* Instructions have been included for each segment. You do not have to follow them exactly, but they are included to help you think through the steps."
   ]
  },
  {
   "cell_type": "code",
   "execution_count": 7,
   "metadata": {},
   "outputs": [
    {
     "data": {
      "text/html": [
       "<div>\n",
       "<style scoped>\n",
       "    .dataframe tbody tr th:only-of-type {\n",
       "        vertical-align: middle;\n",
       "    }\n",
       "\n",
       "    .dataframe tbody tr th {\n",
       "        vertical-align: top;\n",
       "    }\n",
       "\n",
       "    .dataframe thead th {\n",
       "        text-align: right;\n",
       "    }\n",
       "</style>\n",
       "<table border=\"1\" class=\"dataframe\">\n",
       "  <thead>\n",
       "    <tr style=\"text-align: right;\">\n",
       "      <th></th>\n",
       "      <th>Purchase ID</th>\n",
       "      <th>SN</th>\n",
       "      <th>Age</th>\n",
       "      <th>Gender</th>\n",
       "      <th>Item ID</th>\n",
       "      <th>Item Name</th>\n",
       "      <th>Price</th>\n",
       "    </tr>\n",
       "  </thead>\n",
       "  <tbody>\n",
       "    <tr>\n",
       "      <th>0</th>\n",
       "      <td>0</td>\n",
       "      <td>Lisim78</td>\n",
       "      <td>20</td>\n",
       "      <td>Male</td>\n",
       "      <td>108</td>\n",
       "      <td>Extraction, Quickblade Of Trembling Hands</td>\n",
       "      <td>3.53</td>\n",
       "    </tr>\n",
       "    <tr>\n",
       "      <th>1</th>\n",
       "      <td>1</td>\n",
       "      <td>Lisovynya38</td>\n",
       "      <td>40</td>\n",
       "      <td>Male</td>\n",
       "      <td>143</td>\n",
       "      <td>Frenzied Scimitar</td>\n",
       "      <td>1.56</td>\n",
       "    </tr>\n",
       "    <tr>\n",
       "      <th>2</th>\n",
       "      <td>2</td>\n",
       "      <td>Ithergue48</td>\n",
       "      <td>24</td>\n",
       "      <td>Male</td>\n",
       "      <td>92</td>\n",
       "      <td>Final Critic</td>\n",
       "      <td>4.88</td>\n",
       "    </tr>\n",
       "    <tr>\n",
       "      <th>3</th>\n",
       "      <td>3</td>\n",
       "      <td>Chamassasya86</td>\n",
       "      <td>24</td>\n",
       "      <td>Male</td>\n",
       "      <td>100</td>\n",
       "      <td>Blindscythe</td>\n",
       "      <td>3.27</td>\n",
       "    </tr>\n",
       "    <tr>\n",
       "      <th>4</th>\n",
       "      <td>4</td>\n",
       "      <td>Iskosia90</td>\n",
       "      <td>23</td>\n",
       "      <td>Male</td>\n",
       "      <td>131</td>\n",
       "      <td>Fury</td>\n",
       "      <td>1.44</td>\n",
       "    </tr>\n",
       "  </tbody>\n",
       "</table>\n",
       "</div>"
      ],
      "text/plain": [
       "   Purchase ID             SN  Age Gender  Item ID  \\\n",
       "0            0        Lisim78   20   Male      108   \n",
       "1            1    Lisovynya38   40   Male      143   \n",
       "2            2     Ithergue48   24   Male       92   \n",
       "3            3  Chamassasya86   24   Male      100   \n",
       "4            4      Iskosia90   23   Male      131   \n",
       "\n",
       "                                   Item Name  Price  \n",
       "0  Extraction, Quickblade Of Trembling Hands   3.53  \n",
       "1                          Frenzied Scimitar   1.56  \n",
       "2                               Final Critic   4.88  \n",
       "3                                Blindscythe   3.27  \n",
       "4                                       Fury   1.44  "
      ]
     },
     "execution_count": 7,
     "metadata": {},
     "output_type": "execute_result"
    }
   ],
   "source": [
    "# Dependencies and Setup\n",
    "import pandas as pd\n",
    "import numpy as np\n",
    "\n",
    "# File to Load (Remember to Change These)\n",
    "file_to_load = \"Resources/purchase_data.csv\"\n",
    "\n",
    "# Read Purchasing File and store into Pandas data frame\n",
    "purchase_data = pd.read_csv(file_to_load)\n",
    "purchase_data.head()"
   ]
  },
  {
   "cell_type": "code",
   "execution_count": 12,
   "metadata": {},
   "outputs": [
    {
     "data": {
      "text/plain": [
       "Lisosia93        5\n",
       "Idastidru52      4\n",
       "Iral74           4\n",
       "Hada39           3\n",
       "Phaena87         3\n",
       "Phyali88         3\n",
       "Iskadarya95      3\n",
       "Tyidaim51        3\n",
       "Saistyphos30     3\n",
       "Haillyrgue51     3\n",
       "Raesty92         3\n",
       "Asur53           3\n",
       "Aina42           3\n",
       "Lassilsala30     3\n",
       "Pheodaisun84     3\n",
       "Silaera56        3\n",
       "Lisim78          3\n",
       "Strithenu87      3\n",
       "Saedaiphos46     3\n",
       "Umolrian85       3\n",
       "Chamjask73       3\n",
       "Chanastnya43     3\n",
       "Iri67            3\n",
       "Chamimla85       3\n",
       "Rarallo90        3\n",
       "Tyisur83         3\n",
       "Zontibe81        3\n",
       "Siallylis44      3\n",
       "Ilarin91         3\n",
       "Chadolyla44      3\n",
       "                ..\n",
       "Aidai53          1\n",
       "Pheodai94        1\n",
       "Chamastya76      1\n",
       "Ethron58         1\n",
       "Saena74          1\n",
       "Eoralrap26       1\n",
       "Assastnya25      1\n",
       "Lisotesta51      1\n",
       "Lisossa46        1\n",
       "Sastydeu50       1\n",
       "Lisjaskan36      1\n",
       "Farusrian86      1\n",
       "Mindetosya30     1\n",
       "Ristydru66       1\n",
       "Asur96           1\n",
       "Ennalmol65       1\n",
       "Ilassa51         1\n",
       "Yadam35          1\n",
       "Syalollorap93    1\n",
       "Irithlis29       1\n",
       "Haerithp41       1\n",
       "Sundim98         1\n",
       "Aenarap34        1\n",
       "Quilassa66       1\n",
       "Thrientossa55    1\n",
       "Sondistanya61    1\n",
       "Ilassast39       1\n",
       "Lisista27        1\n",
       "Filrion59        1\n",
       "Lassjask63       1\n",
       "Name: SN, Length: 576, dtype: int64"
      ]
     },
     "execution_count": 12,
     "metadata": {},
     "output_type": "execute_result"
    }
   ],
   "source": [
    "purchase_sn = purchase_data[\"SN\"].value_counts()\n",
    "purchase_sn"
   ]
  },
  {
   "cell_type": "code",
   "execution_count": 13,
   "metadata": {},
   "outputs": [
    {
     "data": {
      "text/plain": [
       "576"
      ]
     },
     "execution_count": 13,
     "metadata": {},
     "output_type": "execute_result"
    }
   ],
   "source": [
    "purchase_sn_len = len(purchase_sn)\n",
    "purchase_sn_len"
   ]
  },
  {
   "cell_type": "code",
   "execution_count": 14,
   "metadata": {},
   "outputs": [
    {
     "data": {
      "text/html": [
       "<div>\n",
       "<style scoped>\n",
       "    .dataframe tbody tr th:only-of-type {\n",
       "        vertical-align: middle;\n",
       "    }\n",
       "\n",
       "    .dataframe tbody tr th {\n",
       "        vertical-align: top;\n",
       "    }\n",
       "\n",
       "    .dataframe thead th {\n",
       "        text-align: right;\n",
       "    }\n",
       "</style>\n",
       "<table border=\"1\" class=\"dataframe\">\n",
       "  <thead>\n",
       "    <tr style=\"text-align: right;\">\n",
       "      <th></th>\n",
       "      <th>Total Players</th>\n",
       "    </tr>\n",
       "  </thead>\n",
       "  <tbody>\n",
       "    <tr>\n",
       "      <th>0</th>\n",
       "      <td>576</td>\n",
       "    </tr>\n",
       "  </tbody>\n",
       "</table>\n",
       "</div>"
      ],
      "text/plain": [
       "   Total Players\n",
       "0            576"
      ]
     },
     "execution_count": 14,
     "metadata": {},
     "output_type": "execute_result"
    }
   ],
   "source": [
    "player_count = pd.DataFrame(\n",
    "    {\"Total Players\": [purchase_sn_len],\n",
    "     }\n",
    ")\n",
    "player_count"
   ]
  },
  {
   "cell_type": "markdown",
   "metadata": {},
   "source": [
    "## Player Count"
   ]
  },
  {
   "cell_type": "markdown",
   "metadata": {},
   "source": [
    "* Display the total number of players\n"
   ]
  },
  {
   "cell_type": "code",
   "execution_count": 15,
   "metadata": {},
   "outputs": [
    {
     "data": {
      "text/html": [
       "<div>\n",
       "<style scoped>\n",
       "    .dataframe tbody tr th:only-of-type {\n",
       "        vertical-align: middle;\n",
       "    }\n",
       "\n",
       "    .dataframe tbody tr th {\n",
       "        vertical-align: top;\n",
       "    }\n",
       "\n",
       "    .dataframe thead th {\n",
       "        text-align: right;\n",
       "    }\n",
       "</style>\n",
       "<table border=\"1\" class=\"dataframe\">\n",
       "  <thead>\n",
       "    <tr style=\"text-align: right;\">\n",
       "      <th></th>\n",
       "      <th>Total Players</th>\n",
       "    </tr>\n",
       "  </thead>\n",
       "  <tbody>\n",
       "    <tr>\n",
       "      <th>0</th>\n",
       "      <td>576</td>\n",
       "    </tr>\n",
       "  </tbody>\n",
       "</table>\n",
       "</div>"
      ],
      "text/plain": [
       "   Total Players\n",
       "0            576"
      ]
     },
     "execution_count": 15,
     "metadata": {},
     "output_type": "execute_result"
    }
   ],
   "source": [
    "player_count"
   ]
  },
  {
   "cell_type": "markdown",
   "metadata": {},
   "source": [
    "## Purchasing Analysis (Total)"
   ]
  },
  {
   "cell_type": "markdown",
   "metadata": {},
   "source": [
    "* Run basic calculations to obtain number of unique items, average price, etc.\n",
    "\n",
    "\n",
    "* Create a summary data frame to hold the results\n",
    "\n",
    "\n",
    "* Optional: give the displayed data cleaner formatting\n",
    "\n",
    "\n",
    "* Display the summary data frame\n"
   ]
  },
  {
   "cell_type": "code",
   "execution_count": 23,
   "metadata": {},
   "outputs": [],
   "source": [
    "#basic calculation to obtain number of unique items\n",
    "unique_items = purchase_data[\"Item ID\"].nunique()\n",
    "\n",
    "\n",
    "#basic calculation to obtain average price\n",
    "avg_price = purchase_data[\"Price\"].mean()\n",
    "\n",
    "\n",
    "#basic calculation to obtain number of purchases\n",
    "num_of_purchases = purchase_data[\"Price\"].count()\n",
    "\n",
    "\n",
    "\n",
    "#basic calculation to obtain total revenue\n",
    "tot_revenue = purchase_data[\"Price\"].sum()\n",
    "\n"
   ]
  },
  {
   "cell_type": "code",
   "execution_count": 24,
   "metadata": {},
   "outputs": [
    {
     "data": {
      "text/plain": [
       "183"
      ]
     },
     "execution_count": 24,
     "metadata": {},
     "output_type": "execute_result"
    }
   ],
   "source": [
    "unique_items"
   ]
  },
  {
   "cell_type": "code",
   "execution_count": 19,
   "metadata": {},
   "outputs": [
    {
     "data": {
      "text/plain": [
       "3.050987179487176"
      ]
     },
     "execution_count": 19,
     "metadata": {},
     "output_type": "execute_result"
    }
   ],
   "source": [
    "avg_price"
   ]
  },
  {
   "cell_type": "code",
   "execution_count": 20,
   "metadata": {},
   "outputs": [
    {
     "data": {
      "text/plain": [
       "780"
      ]
     },
     "execution_count": 20,
     "metadata": {},
     "output_type": "execute_result"
    }
   ],
   "source": [
    "num_of_purchases"
   ]
  },
  {
   "cell_type": "code",
   "execution_count": 21,
   "metadata": {},
   "outputs": [
    {
     "data": {
      "text/plain": [
       "2379.77"
      ]
     },
     "execution_count": 21,
     "metadata": {},
     "output_type": "execute_result"
    }
   ],
   "source": [
    "tot_revenue"
   ]
  },
  {
   "cell_type": "code",
   "execution_count": 25,
   "metadata": {},
   "outputs": [
    {
     "data": {
      "text/html": [
       "<div>\n",
       "<style scoped>\n",
       "    .dataframe tbody tr th:only-of-type {\n",
       "        vertical-align: middle;\n",
       "    }\n",
       "\n",
       "    .dataframe tbody tr th {\n",
       "        vertical-align: top;\n",
       "    }\n",
       "\n",
       "    .dataframe thead th {\n",
       "        text-align: right;\n",
       "    }\n",
       "</style>\n",
       "<table border=\"1\" class=\"dataframe\">\n",
       "  <thead>\n",
       "    <tr style=\"text-align: right;\">\n",
       "      <th></th>\n",
       "      <th>Number of Unique Items</th>\n",
       "      <th>Average Price</th>\n",
       "      <th>Number of Purchases</th>\n",
       "      <th>Total Revenue</th>\n",
       "    </tr>\n",
       "  </thead>\n",
       "  <tbody>\n",
       "    <tr>\n",
       "      <th>0</th>\n",
       "      <td>183</td>\n",
       "      <td>3.050987</td>\n",
       "      <td>780</td>\n",
       "      <td>2379.77</td>\n",
       "    </tr>\n",
       "  </tbody>\n",
       "</table>\n",
       "</div>"
      ],
      "text/plain": [
       "   Number of Unique Items  Average Price  Number of Purchases  Total Revenue\n",
       "0                     183       3.050987                  780        2379.77"
      ]
     },
     "execution_count": 25,
     "metadata": {},
     "output_type": "execute_result"
    }
   ],
   "source": [
    "#Create a summary data frame to hold the results\n",
    "summary_dataframe = pd.DataFrame(\n",
    "    {\"Number of Unique Items\": [unique_items],\n",
    "     \"Average Price\": [avg_price],\n",
    "     \"Number of Purchases\": [num_of_purchases],\n",
    "     \"Total Revenue\": [tot_revenue]\n",
    "     }\n",
    ")\n",
    "summary_dataframe"
   ]
  },
  {
   "cell_type": "code",
   "execution_count": 26,
   "metadata": {
    "scrolled": false
   },
   "outputs": [
    {
     "data": {
      "text/html": [
       "<style  type=\"text/css\" >\n",
       "</style><table id=\"T_1f9e8a80_742d_11e9_825f_acde48001122\" ><thead>    <tr>        <th class=\"blank level0\" ></th>        <th class=\"col_heading level0 col0\" >Number of Unique Items</th>        <th class=\"col_heading level0 col1\" >Average Price</th>        <th class=\"col_heading level0 col2\" >Number of Purchases</th>        <th class=\"col_heading level0 col3\" >Total Revenue</th>    </tr></thead><tbody>\n",
       "                <tr>\n",
       "                        <th id=\"T_1f9e8a80_742d_11e9_825f_acde48001122level0_row0\" class=\"row_heading level0 row0\" >0</th>\n",
       "                        <td id=\"T_1f9e8a80_742d_11e9_825f_acde48001122row0_col0\" class=\"data row0 col0\" >183</td>\n",
       "                        <td id=\"T_1f9e8a80_742d_11e9_825f_acde48001122row0_col1\" class=\"data row0 col1\" >$3.05</td>\n",
       "                        <td id=\"T_1f9e8a80_742d_11e9_825f_acde48001122row0_col2\" class=\"data row0 col2\" >780</td>\n",
       "                        <td id=\"T_1f9e8a80_742d_11e9_825f_acde48001122row0_col3\" class=\"data row0 col3\" >$2,379.77</td>\n",
       "            </tr>\n",
       "    </tbody></table>"
      ],
      "text/plain": [
       "<pandas.io.formats.style.Styler at 0x116012a58>"
      ]
     },
     "execution_count": 26,
     "metadata": {},
     "output_type": "execute_result"
    }
   ],
   "source": [
    "#Optional: give the displayed data cleaner formatting\n",
    "summary_dataframe.style.format({'Average Price':\"${:,.2f}\",\n",
    "                         'Total Revenue': '${:,.2f}'})"
   ]
  },
  {
   "cell_type": "markdown",
   "metadata": {},
   "source": [
    "## Gender Demographics"
   ]
  },
  {
   "cell_type": "markdown",
   "metadata": {},
   "source": [
    "* Percentage and Count of Male Players\n",
    "\n",
    "\n",
    "* Percentage and Count of Female Players\n",
    "\n",
    "\n",
    "* Percentage and Count of Other / Non-Disclosed\n",
    "\n",
    "\n"
   ]
  },
  {
   "cell_type": "code",
   "execution_count": 43,
   "metadata": {},
   "outputs": [
    {
     "data": {
      "text/plain": [
       "576"
      ]
     },
     "execution_count": 43,
     "metadata": {},
     "output_type": "execute_result"
    }
   ],
   "source": [
    "total_players = purchase_sn_len\n",
    "total_players"
   ]
  },
  {
   "cell_type": "code",
   "execution_count": 44,
   "metadata": {},
   "outputs": [
    {
     "data": {
      "text/html": [
       "<div>\n",
       "<style scoped>\n",
       "    .dataframe tbody tr th:only-of-type {\n",
       "        vertical-align: middle;\n",
       "    }\n",
       "\n",
       "    .dataframe tbody tr th {\n",
       "        vertical-align: top;\n",
       "    }\n",
       "\n",
       "    .dataframe thead th {\n",
       "        text-align: right;\n",
       "    }\n",
       "</style>\n",
       "<table border=\"1\" class=\"dataframe\">\n",
       "  <thead>\n",
       "    <tr style=\"text-align: right;\">\n",
       "      <th></th>\n",
       "      <th>Gender</th>\n",
       "      <th>SN</th>\n",
       "      <th>Age</th>\n",
       "    </tr>\n",
       "  </thead>\n",
       "  <tbody>\n",
       "    <tr>\n",
       "      <th>0</th>\n",
       "      <td>Male</td>\n",
       "      <td>Lisim78</td>\n",
       "      <td>20</td>\n",
       "    </tr>\n",
       "    <tr>\n",
       "      <th>1</th>\n",
       "      <td>Male</td>\n",
       "      <td>Lisovynya38</td>\n",
       "      <td>40</td>\n",
       "    </tr>\n",
       "    <tr>\n",
       "      <th>2</th>\n",
       "      <td>Male</td>\n",
       "      <td>Ithergue48</td>\n",
       "      <td>24</td>\n",
       "    </tr>\n",
       "    <tr>\n",
       "      <th>3</th>\n",
       "      <td>Male</td>\n",
       "      <td>Chamassasya86</td>\n",
       "      <td>24</td>\n",
       "    </tr>\n",
       "    <tr>\n",
       "      <th>4</th>\n",
       "      <td>Male</td>\n",
       "      <td>Iskosia90</td>\n",
       "      <td>23</td>\n",
       "    </tr>\n",
       "  </tbody>\n",
       "</table>\n",
       "</div>"
      ],
      "text/plain": [
       "  Gender             SN  Age\n",
       "0   Male        Lisim78   20\n",
       "1   Male    Lisovynya38   40\n",
       "2   Male     Ithergue48   24\n",
       "3   Male  Chamassasya86   24\n",
       "4   Male      Iskosia90   23"
      ]
     },
     "execution_count": 44,
     "metadata": {},
     "output_type": "execute_result"
    }
   ],
   "source": [
    "gender_demographics = purchase_data.loc[:, [\"Gender\", \"SN\", \"Age\"]]\n",
    "gender_demographics.head()"
   ]
  },
  {
   "cell_type": "code",
   "execution_count": 45,
   "metadata": {},
   "outputs": [
    {
     "data": {
      "text/plain": [
       "576"
      ]
     },
     "execution_count": 45,
     "metadata": {},
     "output_type": "execute_result"
    }
   ],
   "source": [
    "gender_demographics = gender_demographics.drop_duplicates()\n",
    "\n",
    "player_count = gender_demographics.count()[0]\n",
    "player_count"
   ]
  },
  {
   "cell_type": "code",
   "execution_count": 46,
   "metadata": {
    "scrolled": true
   },
   "outputs": [
    {
     "data": {
      "text/plain": [
       "Male                     484\n",
       "Female                    81\n",
       "Other / Non-Disclosed     11\n",
       "Name: Gender, dtype: int64"
      ]
     },
     "execution_count": 46,
     "metadata": {},
     "output_type": "execute_result"
    }
   ],
   "source": [
    " #Categories of All Players\n",
    "cat_all_players = gender_demographics[\"Gender\"].value_counts()\n",
    "cat_all_players"
   ]
  },
  {
   "cell_type": "code",
   "execution_count": 49,
   "metadata": {},
   "outputs": [
    {
     "data": {
      "text/plain": [
       "Male                     84.027778\n",
       "Female                   14.062500\n",
       "Other / Non-Disclosed     1.909722\n",
       "Name: Gender, dtype: float64"
      ]
     },
     "execution_count": 49,
     "metadata": {},
     "output_type": "execute_result"
    }
   ],
   "source": [
    "#Percentage of All Players\n",
    "percentage_of_players = cat_all_players / total_players *100\n",
    "percentage_of_players\n"
   ]
  },
  {
   "cell_type": "code",
   "execution_count": 57,
   "metadata": {},
   "outputs": [
    {
     "data": {
      "text/html": [
       "<div>\n",
       "<style scoped>\n",
       "    .dataframe tbody tr th:only-of-type {\n",
       "        vertical-align: middle;\n",
       "    }\n",
       "\n",
       "    .dataframe tbody tr th {\n",
       "        vertical-align: top;\n",
       "    }\n",
       "\n",
       "    .dataframe thead th {\n",
       "        text-align: right;\n",
       "    }\n",
       "</style>\n",
       "<table border=\"1\" class=\"dataframe\">\n",
       "  <thead>\n",
       "    <tr style=\"text-align: right;\">\n",
       "      <th></th>\n",
       "      <th>Total Count</th>\n",
       "      <th>Percentage of Players</th>\n",
       "    </tr>\n",
       "  </thead>\n",
       "  <tbody>\n",
       "    <tr>\n",
       "      <th>Male</th>\n",
       "      <td>484</td>\n",
       "      <td>84.027778</td>\n",
       "    </tr>\n",
       "    <tr>\n",
       "      <th>Female</th>\n",
       "      <td>81</td>\n",
       "      <td>14.062500</td>\n",
       "    </tr>\n",
       "    <tr>\n",
       "      <th>Other / Non-Disclosed</th>\n",
       "      <td>11</td>\n",
       "      <td>1.909722</td>\n",
       "    </tr>\n",
       "  </tbody>\n",
       "</table>\n",
       "</div>"
      ],
      "text/plain": [
       "                       Total Count  Percentage of Players\n",
       "Male                           484              84.027778\n",
       "Female                          81              14.062500\n",
       "Other / Non-Disclosed           11               1.909722"
      ]
     },
     "execution_count": 57,
     "metadata": {},
     "output_type": "execute_result"
    }
   ],
   "source": [
    "#Create a summary data frame to hold the results\n",
    "gender_demo_summary = pd.DataFrame(\n",
    "    {\"Total Count\": cat_all_players,\n",
    "     \"Percentage of Players\": percentage_of_players\n",
    "     }\n",
    ")\n",
    "gender_demo_summary"
   ]
  },
  {
   "cell_type": "code",
   "execution_count": 59,
   "metadata": {},
   "outputs": [
    {
     "data": {
      "text/html": [
       "<div>\n",
       "<style scoped>\n",
       "    .dataframe tbody tr th:only-of-type {\n",
       "        vertical-align: middle;\n",
       "    }\n",
       "\n",
       "    .dataframe tbody tr th {\n",
       "        vertical-align: top;\n",
       "    }\n",
       "\n",
       "    .dataframe thead th {\n",
       "        text-align: right;\n",
       "    }\n",
       "</style>\n",
       "<table border=\"1\" class=\"dataframe\">\n",
       "  <thead>\n",
       "    <tr style=\"text-align: right;\">\n",
       "      <th></th>\n",
       "      <th>Total Count</th>\n",
       "      <th>Percentage of Players</th>\n",
       "    </tr>\n",
       "  </thead>\n",
       "  <tbody>\n",
       "    <tr>\n",
       "      <th>Male</th>\n",
       "      <td>484</td>\n",
       "      <td>84.03</td>\n",
       "    </tr>\n",
       "    <tr>\n",
       "      <th>Female</th>\n",
       "      <td>81</td>\n",
       "      <td>14.06</td>\n",
       "    </tr>\n",
       "    <tr>\n",
       "      <th>Other / Non-Disclosed</th>\n",
       "      <td>11</td>\n",
       "      <td>1.91</td>\n",
       "    </tr>\n",
       "  </tbody>\n",
       "</table>\n",
       "</div>"
      ],
      "text/plain": [
       "                       Total Count  Percentage of Players\n",
       "Male                           484                  84.03\n",
       "Female                          81                  14.06\n",
       "Other / Non-Disclosed           11                   1.91"
      ]
     },
     "execution_count": 59,
     "metadata": {},
     "output_type": "execute_result"
    }
   ],
   "source": [
    "#Styling \n",
    "gender_demo_summary = gender_demo_summary.round(2)\n",
    "\n",
    "#Data Gender_demographics\n",
    "gender_demo_summary\n"
   ]
  },
  {
   "cell_type": "markdown",
   "metadata": {},
   "source": [
    "\n",
    "## Purchasing Analysis (Gender)"
   ]
  },
  {
   "cell_type": "markdown",
   "metadata": {},
   "source": [
    "* Run basic calculations to obtain purchase count, avg. purchase price, avg. purchase total per person etc. by gender\n",
    "\n",
    "\n",
    "\n",
    "\n",
    "* Create a summary data frame to hold the results\n",
    "\n",
    "\n",
    "* Optional: give the displayed data cleaner formatting\n",
    "\n",
    "\n",
    "* Display the summary data frame"
   ]
  },
  {
   "cell_type": "code",
   "execution_count": 61,
   "metadata": {},
   "outputs": [
    {
     "data": {
      "text/html": [
       "<div>\n",
       "<style scoped>\n",
       "    .dataframe tbody tr th:only-of-type {\n",
       "        vertical-align: middle;\n",
       "    }\n",
       "\n",
       "    .dataframe tbody tr th {\n",
       "        vertical-align: top;\n",
       "    }\n",
       "\n",
       "    .dataframe thead th {\n",
       "        text-align: right;\n",
       "    }\n",
       "</style>\n",
       "<table border=\"1\" class=\"dataframe\">\n",
       "  <thead>\n",
       "    <tr style=\"text-align: right;\">\n",
       "      <th></th>\n",
       "      <th>Purchase ID</th>\n",
       "      <th>SN</th>\n",
       "      <th>Age</th>\n",
       "      <th>Gender</th>\n",
       "      <th>Item ID</th>\n",
       "      <th>Item Name</th>\n",
       "      <th>Price</th>\n",
       "    </tr>\n",
       "  </thead>\n",
       "  <tbody>\n",
       "    <tr>\n",
       "      <th>0</th>\n",
       "      <td>0</td>\n",
       "      <td>Lisim78</td>\n",
       "      <td>20</td>\n",
       "      <td>Male</td>\n",
       "      <td>108</td>\n",
       "      <td>Extraction, Quickblade Of Trembling Hands</td>\n",
       "      <td>3.53</td>\n",
       "    </tr>\n",
       "    <tr>\n",
       "      <th>1</th>\n",
       "      <td>1</td>\n",
       "      <td>Lisovynya38</td>\n",
       "      <td>40</td>\n",
       "      <td>Male</td>\n",
       "      <td>143</td>\n",
       "      <td>Frenzied Scimitar</td>\n",
       "      <td>1.56</td>\n",
       "    </tr>\n",
       "    <tr>\n",
       "      <th>2</th>\n",
       "      <td>2</td>\n",
       "      <td>Ithergue48</td>\n",
       "      <td>24</td>\n",
       "      <td>Male</td>\n",
       "      <td>92</td>\n",
       "      <td>Final Critic</td>\n",
       "      <td>4.88</td>\n",
       "    </tr>\n",
       "    <tr>\n",
       "      <th>3</th>\n",
       "      <td>3</td>\n",
       "      <td>Chamassasya86</td>\n",
       "      <td>24</td>\n",
       "      <td>Male</td>\n",
       "      <td>100</td>\n",
       "      <td>Blindscythe</td>\n",
       "      <td>3.27</td>\n",
       "    </tr>\n",
       "    <tr>\n",
       "      <th>4</th>\n",
       "      <td>4</td>\n",
       "      <td>Iskosia90</td>\n",
       "      <td>23</td>\n",
       "      <td>Male</td>\n",
       "      <td>131</td>\n",
       "      <td>Fury</td>\n",
       "      <td>1.44</td>\n",
       "    </tr>\n",
       "  </tbody>\n",
       "</table>\n",
       "</div>"
      ],
      "text/plain": [
       "   Purchase ID             SN  Age Gender  Item ID  \\\n",
       "0            0        Lisim78   20   Male      108   \n",
       "1            1    Lisovynya38   40   Male      143   \n",
       "2            2     Ithergue48   24   Male       92   \n",
       "3            3  Chamassasya86   24   Male      100   \n",
       "4            4      Iskosia90   23   Male      131   \n",
       "\n",
       "                                   Item Name  Price  \n",
       "0  Extraction, Quickblade Of Trembling Hands   3.53  \n",
       "1                          Frenzied Scimitar   1.56  \n",
       "2                               Final Critic   4.88  \n",
       "3                                Blindscythe   3.27  \n",
       "4                                       Fury   1.44  "
      ]
     },
     "execution_count": 61,
     "metadata": {},
     "output_type": "execute_result"
    }
   ],
   "source": [
    "purchase_data.head()"
   ]
  },
  {
   "cell_type": "code",
   "execution_count": 68,
   "metadata": {
    "scrolled": true
   },
   "outputs": [
    {
     "data": {
      "text/plain": [
       "Gender\n",
       "Female                   113\n",
       "Male                     652\n",
       "Other / Non-Disclosed     15\n",
       "Name: Purchase ID, dtype: int64"
      ]
     },
     "execution_count": 68,
     "metadata": {},
     "output_type": "execute_result"
    }
   ],
   "source": [
    "#group by gender\n",
    "gen_pur = purchase_data.groupby(['Gender'])\n",
    "gen_pur\n",
    "\n",
    "#Basic calculations to obtain purchase count by gender\n",
    "purchase_count = gen_pur[\"Purchase ID\"].count()\n",
    "purchase_count"
   ]
  },
  {
   "cell_type": "code",
   "execution_count": 69,
   "metadata": {},
   "outputs": [
    {
     "data": {
      "text/plain": [
       "Gender\n",
       "Female                   3.203009\n",
       "Male                     3.017853\n",
       "Other / Non-Disclosed    3.346000\n",
       "Name: Price, dtype: float64"
      ]
     },
     "execution_count": 69,
     "metadata": {},
     "output_type": "execute_result"
    }
   ],
   "source": [
    "#Basic calculations to obtain average purchase price by gender\n",
    "purchase_price = gen_pur[\"Price\"].mean()\n",
    "purchase_price"
   ]
  },
  {
   "cell_type": "code",
   "execution_count": 70,
   "metadata": {},
   "outputs": [
    {
     "data": {
      "text/plain": [
       "Gender\n",
       "Female                    361.94\n",
       "Male                     1967.64\n",
       "Other / Non-Disclosed      50.19\n",
       "Name: Price, dtype: float64"
      ]
     },
     "execution_count": 70,
     "metadata": {},
     "output_type": "execute_result"
    }
   ],
   "source": [
    "#Basic calculations to obtain total purchase value by gender\n",
    "total_purchase_value = gen_pur[\"Price\"].sum()\n",
    "total_purchase_value"
   ]
  },
  {
   "cell_type": "code",
   "execution_count": 72,
   "metadata": {},
   "outputs": [
    {
     "data": {
      "text/plain": [
       "Gender\n",
       "Female                    81\n",
       "Male                     484\n",
       "Other / Non-Disclosed     11\n",
       "Name: SN, dtype: int64"
      ]
     },
     "execution_count": 72,
     "metadata": {},
     "output_type": "execute_result"
    }
   ],
   "source": [
    "tot_count_gender = gen_pur.nunique()[\"SN\"]\n",
    "tot_count_gender"
   ]
  },
  {
   "cell_type": "code",
   "execution_count": 73,
   "metadata": {},
   "outputs": [
    {
     "data": {
      "text/plain": [
       "Gender\n",
       "Female                   4.468395\n",
       "Male                     4.065372\n",
       "Other / Non-Disclosed    4.562727\n",
       "dtype: float64"
      ]
     },
     "execution_count": 73,
     "metadata": {},
     "output_type": "execute_result"
    }
   ],
   "source": [
    "#Basic calculations to obtain avg total purchase per person by gender\n",
    "average_total_purchase_pr_person = total_purchase_value / tot_count_gender\n",
    "average_total_purchase_pr_person"
   ]
  },
  {
   "cell_type": "code",
   "execution_count": 75,
   "metadata": {},
   "outputs": [
    {
     "data": {
      "text/html": [
       "<div>\n",
       "<style scoped>\n",
       "    .dataframe tbody tr th:only-of-type {\n",
       "        vertical-align: middle;\n",
       "    }\n",
       "\n",
       "    .dataframe tbody tr th {\n",
       "        vertical-align: top;\n",
       "    }\n",
       "\n",
       "    .dataframe thead th {\n",
       "        text-align: right;\n",
       "    }\n",
       "</style>\n",
       "<table border=\"1\" class=\"dataframe\">\n",
       "  <thead>\n",
       "    <tr style=\"text-align: right;\">\n",
       "      <th></th>\n",
       "      <th>Purchase Count</th>\n",
       "      <th>Average Purchase Price</th>\n",
       "      <th>Total Purchase Value</th>\n",
       "      <th>Avg Total Purchase per Person</th>\n",
       "    </tr>\n",
       "    <tr>\n",
       "      <th>Gender</th>\n",
       "      <th></th>\n",
       "      <th></th>\n",
       "      <th></th>\n",
       "      <th></th>\n",
       "    </tr>\n",
       "  </thead>\n",
       "  <tbody>\n",
       "    <tr>\n",
       "      <th>Female</th>\n",
       "      <td>113</td>\n",
       "      <td>3.203009</td>\n",
       "      <td>361.94</td>\n",
       "      <td>4.468395</td>\n",
       "    </tr>\n",
       "    <tr>\n",
       "      <th>Male</th>\n",
       "      <td>652</td>\n",
       "      <td>3.017853</td>\n",
       "      <td>1967.64</td>\n",
       "      <td>4.065372</td>\n",
       "    </tr>\n",
       "    <tr>\n",
       "      <th>Other / Non-Disclosed</th>\n",
       "      <td>15</td>\n",
       "      <td>3.346000</td>\n",
       "      <td>50.19</td>\n",
       "      <td>4.562727</td>\n",
       "    </tr>\n",
       "  </tbody>\n",
       "</table>\n",
       "</div>"
      ],
      "text/plain": [
       "                       Purchase Count  Average Purchase Price  \\\n",
       "Gender                                                          \n",
       "Female                            113                3.203009   \n",
       "Male                              652                3.017853   \n",
       "Other / Non-Disclosed              15                3.346000   \n",
       "\n",
       "                       Total Purchase Value  Avg Total Purchase per Person  \n",
       "Gender                                                                      \n",
       "Female                               361.94                       4.468395  \n",
       "Male                                1967.64                       4.065372  \n",
       "Other / Non-Disclosed                 50.19                       4.562727  "
      ]
     },
     "execution_count": 75,
     "metadata": {},
     "output_type": "execute_result"
    }
   ],
   "source": [
    "# Create data frame with obtained values \n",
    "purchasing_analysis_gender = pd.DataFrame(\n",
    "                            {\"Purchase Count\": purchase_count, \n",
    "                            \"Average Purchase Price\": purchase_price,\n",
    "                            \"Total Purchase Value\":total_purchase_value,\n",
    "                            \"Avg Total Purchase per Person\": average_total_purchase_pr_person})\n",
    "purchasing_analysis_gender"
   ]
  },
  {
   "cell_type": "code",
   "execution_count": 77,
   "metadata": {},
   "outputs": [
    {
     "data": {
      "text/html": [
       "<div>\n",
       "<style scoped>\n",
       "    .dataframe tbody tr th:only-of-type {\n",
       "        vertical-align: middle;\n",
       "    }\n",
       "\n",
       "    .dataframe tbody tr th {\n",
       "        vertical-align: top;\n",
       "    }\n",
       "\n",
       "    .dataframe thead th {\n",
       "        text-align: right;\n",
       "    }\n",
       "</style>\n",
       "<table border=\"1\" class=\"dataframe\">\n",
       "  <thead>\n",
       "    <tr style=\"text-align: right;\">\n",
       "      <th></th>\n",
       "      <th>Purchase Count</th>\n",
       "      <th>Average Purchase Price</th>\n",
       "      <th>Total Purchase Value</th>\n",
       "      <th>Avg Total Purchase per Person</th>\n",
       "    </tr>\n",
       "    <tr>\n",
       "      <th>Gender</th>\n",
       "      <th></th>\n",
       "      <th></th>\n",
       "      <th></th>\n",
       "      <th></th>\n",
       "    </tr>\n",
       "  </thead>\n",
       "  <tbody>\n",
       "    <tr>\n",
       "      <th>Female</th>\n",
       "      <td>113</td>\n",
       "      <td>3.203009</td>\n",
       "      <td>361.94</td>\n",
       "      <td>4.468395</td>\n",
       "    </tr>\n",
       "    <tr>\n",
       "      <th>Male</th>\n",
       "      <td>652</td>\n",
       "      <td>3.017853</td>\n",
       "      <td>1967.64</td>\n",
       "      <td>4.065372</td>\n",
       "    </tr>\n",
       "    <tr>\n",
       "      <th>Other / Non-Disclosed</th>\n",
       "      <td>15</td>\n",
       "      <td>3.346000</td>\n",
       "      <td>50.19</td>\n",
       "      <td>4.562727</td>\n",
       "    </tr>\n",
       "  </tbody>\n",
       "</table>\n",
       "</div>"
      ],
      "text/plain": [
       "                       Purchase Count  Average Purchase Price  \\\n",
       "Gender                                                          \n",
       "Female                            113                3.203009   \n",
       "Male                              652                3.017853   \n",
       "Other / Non-Disclosed              15                3.346000   \n",
       "\n",
       "                       Total Purchase Value  Avg Total Purchase per Person  \n",
       "Gender                                                                      \n",
       "Female                               361.94                       4.468395  \n",
       "Male                                1967.64                       4.065372  \n",
       "Other / Non-Disclosed                 50.19                       4.562727  "
      ]
     },
     "execution_count": 77,
     "metadata": {},
     "output_type": "execute_result"
    }
   ],
   "source": [
    "# Provide index in top left as \"Gender\"\n",
    "purchasing_analysis_gender.index.name = \"Gender\"\n",
    "purchasing_analysis_gender"
   ]
  },
  {
   "cell_type": "code",
   "execution_count": 78,
   "metadata": {},
   "outputs": [
    {
     "data": {
      "text/html": [
       "<style  type=\"text/css\" >\n",
       "</style><table id=\"T_f7c3717a_7433_11e9_99bc_acde48001122\" ><thead>    <tr>        <th class=\"blank level0\" ></th>        <th class=\"col_heading level0 col0\" >Purchase Count</th>        <th class=\"col_heading level0 col1\" >Average Purchase Price</th>        <th class=\"col_heading level0 col2\" >Total Purchase Value</th>        <th class=\"col_heading level0 col3\" >Avg Total Purchase per Person</th>    </tr>    <tr>        <th class=\"index_name level0\" >Gender</th>        <th class=\"blank\" ></th>        <th class=\"blank\" ></th>        <th class=\"blank\" ></th>        <th class=\"blank\" ></th>    </tr></thead><tbody>\n",
       "                <tr>\n",
       "                        <th id=\"T_f7c3717a_7433_11e9_99bc_acde48001122level0_row0\" class=\"row_heading level0 row0\" >Female</th>\n",
       "                        <td id=\"T_f7c3717a_7433_11e9_99bc_acde48001122row0_col0\" class=\"data row0 col0\" >113</td>\n",
       "                        <td id=\"T_f7c3717a_7433_11e9_99bc_acde48001122row0_col1\" class=\"data row0 col1\" >$3.20</td>\n",
       "                        <td id=\"T_f7c3717a_7433_11e9_99bc_acde48001122row0_col2\" class=\"data row0 col2\" >$361.94</td>\n",
       "                        <td id=\"T_f7c3717a_7433_11e9_99bc_acde48001122row0_col3\" class=\"data row0 col3\" >$4.47</td>\n",
       "            </tr>\n",
       "            <tr>\n",
       "                        <th id=\"T_f7c3717a_7433_11e9_99bc_acde48001122level0_row1\" class=\"row_heading level0 row1\" >Male</th>\n",
       "                        <td id=\"T_f7c3717a_7433_11e9_99bc_acde48001122row1_col0\" class=\"data row1 col0\" >652</td>\n",
       "                        <td id=\"T_f7c3717a_7433_11e9_99bc_acde48001122row1_col1\" class=\"data row1 col1\" >$3.02</td>\n",
       "                        <td id=\"T_f7c3717a_7433_11e9_99bc_acde48001122row1_col2\" class=\"data row1 col2\" >$1,967.64</td>\n",
       "                        <td id=\"T_f7c3717a_7433_11e9_99bc_acde48001122row1_col3\" class=\"data row1 col3\" >$4.07</td>\n",
       "            </tr>\n",
       "            <tr>\n",
       "                        <th id=\"T_f7c3717a_7433_11e9_99bc_acde48001122level0_row2\" class=\"row_heading level0 row2\" >Other / Non-Disclosed</th>\n",
       "                        <td id=\"T_f7c3717a_7433_11e9_99bc_acde48001122row2_col0\" class=\"data row2 col0\" >15</td>\n",
       "                        <td id=\"T_f7c3717a_7433_11e9_99bc_acde48001122row2_col1\" class=\"data row2 col1\" >$3.35</td>\n",
       "                        <td id=\"T_f7c3717a_7433_11e9_99bc_acde48001122row2_col2\" class=\"data row2 col2\" >$50.19</td>\n",
       "                        <td id=\"T_f7c3717a_7433_11e9_99bc_acde48001122row2_col3\" class=\"data row2 col3\" >$4.56</td>\n",
       "            </tr>\n",
       "    </tbody></table>"
      ],
      "text/plain": [
       "<pandas.io.formats.style.Styler at 0x117018320>"
      ]
     },
     "execution_count": 78,
     "metadata": {},
     "output_type": "execute_result"
    }
   ],
   "source": [
    "\n",
    "# Format with currency style\n",
    "purchasing_analysis_gender.style.format({\"Average Purchase Price\":\"${:,.2f}\",\n",
    "                                  \"Total Purchase Value\":\"${:,.2f}\",\n",
    "                                  \"Avg Total Purchase per Person\":\"${:,.2f}\"})\n"
   ]
  },
  {
   "cell_type": "markdown",
   "metadata": {},
   "source": [
    "## Age Demographics"
   ]
  },
  {
   "cell_type": "markdown",
   "metadata": {},
   "source": [
    "* Establish bins for ages\n",
    "\n",
    "\n",
    "* Categorize the existing players using the age bins. Hint: use pd.cut()\n",
    "\n",
    "\n",
    "* Calculate the numbers and percentages by age group\n",
    "\n",
    "\n",
    "* Create a summary data frame to hold the results\n",
    "\n",
    "\n",
    "* Optional: round the percentage column to two decimal points\n",
    "\n",
    "\n",
    "* Display Age Demographics Table\n"
   ]
  },
  {
   "cell_type": "code",
   "execution_count": 79,
   "metadata": {},
   "outputs": [],
   "source": [
    "#Establish bins for ages\n",
    "age_demo_bins = [0, 9.90, 14.90, 19.90, 24.9, 29.9, 34.90, 39.90, 9999999]\n",
    "group_lbl_names = [\"<10\", \"10-14\", \"15-19\", \"20-24\", \"25-29\", \"30-34\", \"35-39\", \">40\"]\n"
   ]
  },
  {
   "cell_type": "code",
   "execution_count": 80,
   "metadata": {},
   "outputs": [
    {
     "data": {
      "text/html": [
       "<div>\n",
       "<style scoped>\n",
       "    .dataframe tbody tr th:only-of-type {\n",
       "        vertical-align: middle;\n",
       "    }\n",
       "\n",
       "    .dataframe tbody tr th {\n",
       "        vertical-align: top;\n",
       "    }\n",
       "\n",
       "    .dataframe thead th {\n",
       "        text-align: right;\n",
       "    }\n",
       "</style>\n",
       "<table border=\"1\" class=\"dataframe\">\n",
       "  <thead>\n",
       "    <tr style=\"text-align: right;\">\n",
       "      <th></th>\n",
       "      <th>Gender</th>\n",
       "      <th>SN</th>\n",
       "      <th>Age</th>\n",
       "      <th>Age Ranges</th>\n",
       "    </tr>\n",
       "  </thead>\n",
       "  <tbody>\n",
       "    <tr>\n",
       "      <th>0</th>\n",
       "      <td>Male</td>\n",
       "      <td>Lisim78</td>\n",
       "      <td>20</td>\n",
       "      <td>20-24</td>\n",
       "    </tr>\n",
       "    <tr>\n",
       "      <th>1</th>\n",
       "      <td>Male</td>\n",
       "      <td>Lisovynya38</td>\n",
       "      <td>40</td>\n",
       "      <td>&gt;40</td>\n",
       "    </tr>\n",
       "    <tr>\n",
       "      <th>2</th>\n",
       "      <td>Male</td>\n",
       "      <td>Ithergue48</td>\n",
       "      <td>24</td>\n",
       "      <td>20-24</td>\n",
       "    </tr>\n",
       "    <tr>\n",
       "      <th>3</th>\n",
       "      <td>Male</td>\n",
       "      <td>Chamassasya86</td>\n",
       "      <td>24</td>\n",
       "      <td>20-24</td>\n",
       "    </tr>\n",
       "    <tr>\n",
       "      <th>4</th>\n",
       "      <td>Male</td>\n",
       "      <td>Iskosia90</td>\n",
       "      <td>23</td>\n",
       "      <td>20-24</td>\n",
       "    </tr>\n",
       "  </tbody>\n",
       "</table>\n",
       "</div>"
      ],
      "text/plain": [
       "  Gender             SN  Age Age Ranges\n",
       "0   Male        Lisim78   20      20-24\n",
       "1   Male    Lisovynya38   40        >40\n",
       "2   Male     Ithergue48   24      20-24\n",
       "3   Male  Chamassasya86   24      20-24\n",
       "4   Male      Iskosia90   23      20-24"
      ]
     },
     "execution_count": 80,
     "metadata": {},
     "output_type": "execute_result"
    }
   ],
   "source": [
    "#Categorize the existing players using the age bins. Hint: use pd.cut()\n",
    "gender_demographics[\"Age Ranges\"] = pd.cut(gender_demographics[\"Age\"], age_demo_bins, labels=group_lbl_names)\n",
    "gender_demographics.head()\n"
   ]
  },
  {
   "cell_type": "code",
   "execution_count": 81,
   "metadata": {},
   "outputs": [
    {
     "data": {
      "text/plain": [
       "20-24    258\n",
       "15-19    107\n",
       "25-29     77\n",
       "30-34     52\n",
       "35-39     31\n",
       "10-14     22\n",
       "<10       17\n",
       ">40       12\n",
       "Name: Age Ranges, dtype: int64"
      ]
     },
     "execution_count": 81,
     "metadata": {},
     "output_type": "execute_result"
    }
   ],
   "source": [
    "#Calculate the percentages by age group\n",
    "age_demo_totals = gender_demographics[\"Age Ranges\"].value_counts()\n",
    "age_demo_totals\n"
   ]
  },
  {
   "cell_type": "code",
   "execution_count": 82,
   "metadata": {},
   "outputs": [
    {
     "data": {
      "text/plain": [
       "20-24    44.791667\n",
       "15-19    18.576389\n",
       "25-29    13.368056\n",
       "30-34     9.027778\n",
       "35-39     5.381944\n",
       "10-14     3.819444\n",
       "<10       2.951389\n",
       ">40       2.083333\n",
       "Name: Age Ranges, dtype: float64"
      ]
     },
     "execution_count": 82,
     "metadata": {},
     "output_type": "execute_result"
    }
   ],
   "source": [
    "#Calculate the numbers by age group\n",
    "age_demo_percents = age_demo_totals / total_players * 100\n",
    "age_demo_percents\n"
   ]
  },
  {
   "cell_type": "code",
   "execution_count": 87,
   "metadata": {},
   "outputs": [
    {
     "data": {
      "text/html": [
       "<div>\n",
       "<style scoped>\n",
       "    .dataframe tbody tr th:only-of-type {\n",
       "        vertical-align: middle;\n",
       "    }\n",
       "\n",
       "    .dataframe tbody tr th {\n",
       "        vertical-align: top;\n",
       "    }\n",
       "\n",
       "    .dataframe thead th {\n",
       "        text-align: right;\n",
       "    }\n",
       "</style>\n",
       "<table border=\"1\" class=\"dataframe\">\n",
       "  <thead>\n",
       "    <tr style=\"text-align: right;\">\n",
       "      <th></th>\n",
       "      <th>Total Count</th>\n",
       "      <th>Percentage of Players</th>\n",
       "    </tr>\n",
       "  </thead>\n",
       "  <tbody>\n",
       "    <tr>\n",
       "      <th>20-24</th>\n",
       "      <td>258</td>\n",
       "      <td>44.791667</td>\n",
       "    </tr>\n",
       "    <tr>\n",
       "      <th>15-19</th>\n",
       "      <td>107</td>\n",
       "      <td>18.576389</td>\n",
       "    </tr>\n",
       "    <tr>\n",
       "      <th>25-29</th>\n",
       "      <td>77</td>\n",
       "      <td>13.368056</td>\n",
       "    </tr>\n",
       "    <tr>\n",
       "      <th>30-34</th>\n",
       "      <td>52</td>\n",
       "      <td>9.027778</td>\n",
       "    </tr>\n",
       "    <tr>\n",
       "      <th>35-39</th>\n",
       "      <td>31</td>\n",
       "      <td>5.381944</td>\n",
       "    </tr>\n",
       "    <tr>\n",
       "      <th>10-14</th>\n",
       "      <td>22</td>\n",
       "      <td>3.819444</td>\n",
       "    </tr>\n",
       "    <tr>\n",
       "      <th>&lt;10</th>\n",
       "      <td>17</td>\n",
       "      <td>2.951389</td>\n",
       "    </tr>\n",
       "    <tr>\n",
       "      <th>&gt;40</th>\n",
       "      <td>12</td>\n",
       "      <td>2.083333</td>\n",
       "    </tr>\n",
       "  </tbody>\n",
       "</table>\n",
       "</div>"
      ],
      "text/plain": [
       "       Total Count  Percentage of Players\n",
       "20-24          258              44.791667\n",
       "15-19          107              18.576389\n",
       "25-29           77              13.368056\n",
       "30-34           52               9.027778\n",
       "35-39           31               5.381944\n",
       "10-14           22               3.819444\n",
       "<10             17               2.951389\n",
       ">40             12               2.083333"
      ]
     },
     "execution_count": 87,
     "metadata": {},
     "output_type": "execute_result"
    }
   ],
   "source": [
    "#Create a summary data frame to hold the results\n",
    "age_demo_summary = pd.DataFrame(\n",
    "                    {\"Total Count\": age_demo_totals, \n",
    "                     \"Percentage of Players\": age_demo_percents})\n",
    "age_demo_summary\n"
   ]
  },
  {
   "cell_type": "code",
   "execution_count": 88,
   "metadata": {},
   "outputs": [
    {
     "data": {
      "text/html": [
       "<div>\n",
       "<style scoped>\n",
       "    .dataframe tbody tr th:only-of-type {\n",
       "        vertical-align: middle;\n",
       "    }\n",
       "\n",
       "    .dataframe tbody tr th {\n",
       "        vertical-align: top;\n",
       "    }\n",
       "\n",
       "    .dataframe thead th {\n",
       "        text-align: right;\n",
       "    }\n",
       "</style>\n",
       "<table border=\"1\" class=\"dataframe\">\n",
       "  <thead>\n",
       "    <tr style=\"text-align: right;\">\n",
       "      <th></th>\n",
       "      <th>Total Count</th>\n",
       "      <th>Percentage of Players</th>\n",
       "    </tr>\n",
       "  </thead>\n",
       "  <tbody>\n",
       "    <tr>\n",
       "      <th>&lt;10</th>\n",
       "      <td>17</td>\n",
       "      <td>2.951389</td>\n",
       "    </tr>\n",
       "    <tr>\n",
       "      <th>10-14</th>\n",
       "      <td>22</td>\n",
       "      <td>3.819444</td>\n",
       "    </tr>\n",
       "    <tr>\n",
       "      <th>15-19</th>\n",
       "      <td>107</td>\n",
       "      <td>18.576389</td>\n",
       "    </tr>\n",
       "    <tr>\n",
       "      <th>20-24</th>\n",
       "      <td>258</td>\n",
       "      <td>44.791667</td>\n",
       "    </tr>\n",
       "    <tr>\n",
       "      <th>25-29</th>\n",
       "      <td>77</td>\n",
       "      <td>13.368056</td>\n",
       "    </tr>\n",
       "    <tr>\n",
       "      <th>30-34</th>\n",
       "      <td>52</td>\n",
       "      <td>9.027778</td>\n",
       "    </tr>\n",
       "    <tr>\n",
       "      <th>35-39</th>\n",
       "      <td>31</td>\n",
       "      <td>5.381944</td>\n",
       "    </tr>\n",
       "    <tr>\n",
       "      <th>&gt;40</th>\n",
       "      <td>12</td>\n",
       "      <td>2.083333</td>\n",
       "    </tr>\n",
       "  </tbody>\n",
       "</table>\n",
       "</div>"
      ],
      "text/plain": [
       "       Total Count  Percentage of Players\n",
       "<10             17               2.951389\n",
       "10-14           22               3.819444\n",
       "15-19          107              18.576389\n",
       "20-24          258              44.791667\n",
       "25-29           77              13.368056\n",
       "30-34           52               9.027778\n",
       "35-39           31               5.381944\n",
       ">40             12               2.083333"
      ]
     },
     "execution_count": 88,
     "metadata": {},
     "output_type": "execute_result"
    }
   ],
   "source": [
    "#Sort the dataframe\n",
    "age_demo_summary = age_demo_summary.sort_index()\n",
    "age_demo_summary\n"
   ]
  },
  {
   "cell_type": "code",
   "execution_count": 89,
   "metadata": {
    "scrolled": false
   },
   "outputs": [
    {
     "data": {
      "text/html": [
       "<div>\n",
       "<style scoped>\n",
       "    .dataframe tbody tr th:only-of-type {\n",
       "        vertical-align: middle;\n",
       "    }\n",
       "\n",
       "    .dataframe tbody tr th {\n",
       "        vertical-align: top;\n",
       "    }\n",
       "\n",
       "    .dataframe thead th {\n",
       "        text-align: right;\n",
       "    }\n",
       "</style>\n",
       "<table border=\"1\" class=\"dataframe\">\n",
       "  <thead>\n",
       "    <tr style=\"text-align: right;\">\n",
       "      <th></th>\n",
       "      <th>Total Count</th>\n",
       "      <th>Percentage of Players</th>\n",
       "    </tr>\n",
       "  </thead>\n",
       "  <tbody>\n",
       "    <tr>\n",
       "      <th>&lt;10</th>\n",
       "      <td>17</td>\n",
       "      <td>2.95</td>\n",
       "    </tr>\n",
       "    <tr>\n",
       "      <th>10-14</th>\n",
       "      <td>22</td>\n",
       "      <td>3.82</td>\n",
       "    </tr>\n",
       "    <tr>\n",
       "      <th>15-19</th>\n",
       "      <td>107</td>\n",
       "      <td>18.58</td>\n",
       "    </tr>\n",
       "    <tr>\n",
       "      <th>20-24</th>\n",
       "      <td>258</td>\n",
       "      <td>44.79</td>\n",
       "    </tr>\n",
       "    <tr>\n",
       "      <th>25-29</th>\n",
       "      <td>77</td>\n",
       "      <td>13.37</td>\n",
       "    </tr>\n",
       "    <tr>\n",
       "      <th>30-34</th>\n",
       "      <td>52</td>\n",
       "      <td>9.03</td>\n",
       "    </tr>\n",
       "    <tr>\n",
       "      <th>35-39</th>\n",
       "      <td>31</td>\n",
       "      <td>5.38</td>\n",
       "    </tr>\n",
       "    <tr>\n",
       "      <th>&gt;40</th>\n",
       "      <td>12</td>\n",
       "      <td>2.08</td>\n",
       "    </tr>\n",
       "  </tbody>\n",
       "</table>\n",
       "</div>"
      ],
      "text/plain": [
       "       Total Count  Percentage of Players\n",
       "<10             17                   2.95\n",
       "10-14           22                   3.82\n",
       "15-19          107                  18.58\n",
       "20-24          258                  44.79\n",
       "25-29           77                  13.37\n",
       "30-34           52                   9.03\n",
       "35-39           31                   5.38\n",
       ">40             12                   2.08"
      ]
     },
     "execution_count": 89,
     "metadata": {},
     "output_type": "execute_result"
    }
   ],
   "source": [
    "#Optional: round the percentage column to two decimal points\n",
    "#Display Age Demographics Table\n",
    "\n",
    "age_demo_summary = age_demo_summary.round(2)\n",
    "age_demo_summary\n",
    "\n"
   ]
  },
  {
   "cell_type": "code",
   "execution_count": null,
   "metadata": {},
   "outputs": [],
   "source": []
  },
  {
   "cell_type": "markdown",
   "metadata": {},
   "source": [
    "## Purchasing Analysis (Age)"
   ]
  },
  {
   "cell_type": "markdown",
   "metadata": {},
   "source": [
    "* Bin the purchase_data data frame by age\n",
    "\n",
    "\n",
    "* Run basic calculations to obtain purchase count, avg. purchase price, avg. purchase total per person etc. in the table below\n",
    "\n",
    "\n",
    "* Create a summary data frame to hold the results\n",
    "\n",
    "\n",
    "* Optional: give the displayed data cleaner formatting\n",
    "\n",
    "\n",
    "* Display the summary data frame"
   ]
  },
  {
   "cell_type": "code",
   "execution_count": 91,
   "metadata": {
    "scrolled": true
   },
   "outputs": [
    {
     "data": {
      "text/html": [
       "<div>\n",
       "<style scoped>\n",
       "    .dataframe tbody tr th:only-of-type {\n",
       "        vertical-align: middle;\n",
       "    }\n",
       "\n",
       "    .dataframe tbody tr th {\n",
       "        vertical-align: top;\n",
       "    }\n",
       "\n",
       "    .dataframe thead th {\n",
       "        text-align: right;\n",
       "    }\n",
       "</style>\n",
       "<table border=\"1\" class=\"dataframe\">\n",
       "  <thead>\n",
       "    <tr style=\"text-align: right;\">\n",
       "      <th></th>\n",
       "      <th>Purchase ID</th>\n",
       "      <th>SN</th>\n",
       "      <th>Age</th>\n",
       "      <th>Gender</th>\n",
       "      <th>Item ID</th>\n",
       "      <th>Item Name</th>\n",
       "      <th>Price</th>\n",
       "    </tr>\n",
       "  </thead>\n",
       "  <tbody>\n",
       "    <tr>\n",
       "      <th>0</th>\n",
       "      <td>0</td>\n",
       "      <td>Lisim78</td>\n",
       "      <td>20</td>\n",
       "      <td>Male</td>\n",
       "      <td>108</td>\n",
       "      <td>Extraction, Quickblade Of Trembling Hands</td>\n",
       "      <td>3.53</td>\n",
       "    </tr>\n",
       "    <tr>\n",
       "      <th>1</th>\n",
       "      <td>1</td>\n",
       "      <td>Lisovynya38</td>\n",
       "      <td>40</td>\n",
       "      <td>Male</td>\n",
       "      <td>143</td>\n",
       "      <td>Frenzied Scimitar</td>\n",
       "      <td>1.56</td>\n",
       "    </tr>\n",
       "    <tr>\n",
       "      <th>2</th>\n",
       "      <td>2</td>\n",
       "      <td>Ithergue48</td>\n",
       "      <td>24</td>\n",
       "      <td>Male</td>\n",
       "      <td>92</td>\n",
       "      <td>Final Critic</td>\n",
       "      <td>4.88</td>\n",
       "    </tr>\n",
       "    <tr>\n",
       "      <th>3</th>\n",
       "      <td>3</td>\n",
       "      <td>Chamassasya86</td>\n",
       "      <td>24</td>\n",
       "      <td>Male</td>\n",
       "      <td>100</td>\n",
       "      <td>Blindscythe</td>\n",
       "      <td>3.27</td>\n",
       "    </tr>\n",
       "    <tr>\n",
       "      <th>4</th>\n",
       "      <td>4</td>\n",
       "      <td>Iskosia90</td>\n",
       "      <td>23</td>\n",
       "      <td>Male</td>\n",
       "      <td>131</td>\n",
       "      <td>Fury</td>\n",
       "      <td>1.44</td>\n",
       "    </tr>\n",
       "  </tbody>\n",
       "</table>\n",
       "</div>"
      ],
      "text/plain": [
       "   Purchase ID             SN  Age Gender  Item ID  \\\n",
       "0            0        Lisim78   20   Male      108   \n",
       "1            1    Lisovynya38   40   Male      143   \n",
       "2            2     Ithergue48   24   Male       92   \n",
       "3            3  Chamassasya86   24   Male      100   \n",
       "4            4      Iskosia90   23   Male      131   \n",
       "\n",
       "                                   Item Name  Price  \n",
       "0  Extraction, Quickblade Of Trembling Hands   3.53  \n",
       "1                          Frenzied Scimitar   1.56  \n",
       "2                               Final Critic   4.88  \n",
       "3                                Blindscythe   3.27  \n",
       "4                                       Fury   1.44  "
      ]
     },
     "execution_count": 91,
     "metadata": {},
     "output_type": "execute_result"
    }
   ],
   "source": [
    "purchase_data.head()"
   ]
  },
  {
   "cell_type": "code",
   "execution_count": 92,
   "metadata": {},
   "outputs": [
    {
     "data": {
      "text/html": [
       "<div>\n",
       "<style scoped>\n",
       "    .dataframe tbody tr th:only-of-type {\n",
       "        vertical-align: middle;\n",
       "    }\n",
       "\n",
       "    .dataframe tbody tr th {\n",
       "        vertical-align: top;\n",
       "    }\n",
       "\n",
       "    .dataframe thead th {\n",
       "        text-align: right;\n",
       "    }\n",
       "</style>\n",
       "<table border=\"1\" class=\"dataframe\">\n",
       "  <thead>\n",
       "    <tr style=\"text-align: right;\">\n",
       "      <th></th>\n",
       "      <th>Purchase ID</th>\n",
       "      <th>SN</th>\n",
       "      <th>Age</th>\n",
       "      <th>Gender</th>\n",
       "      <th>Item ID</th>\n",
       "      <th>Item Name</th>\n",
       "      <th>Price</th>\n",
       "      <th>Age Ranges</th>\n",
       "    </tr>\n",
       "  </thead>\n",
       "  <tbody>\n",
       "    <tr>\n",
       "      <th>0</th>\n",
       "      <td>0</td>\n",
       "      <td>Lisim78</td>\n",
       "      <td>20</td>\n",
       "      <td>Male</td>\n",
       "      <td>108</td>\n",
       "      <td>Extraction, Quickblade Of Trembling Hands</td>\n",
       "      <td>3.53</td>\n",
       "      <td>20-24</td>\n",
       "    </tr>\n",
       "    <tr>\n",
       "      <th>1</th>\n",
       "      <td>1</td>\n",
       "      <td>Lisovynya38</td>\n",
       "      <td>40</td>\n",
       "      <td>Male</td>\n",
       "      <td>143</td>\n",
       "      <td>Frenzied Scimitar</td>\n",
       "      <td>1.56</td>\n",
       "      <td>&gt;40</td>\n",
       "    </tr>\n",
       "    <tr>\n",
       "      <th>2</th>\n",
       "      <td>2</td>\n",
       "      <td>Ithergue48</td>\n",
       "      <td>24</td>\n",
       "      <td>Male</td>\n",
       "      <td>92</td>\n",
       "      <td>Final Critic</td>\n",
       "      <td>4.88</td>\n",
       "      <td>20-24</td>\n",
       "    </tr>\n",
       "    <tr>\n",
       "      <th>3</th>\n",
       "      <td>3</td>\n",
       "      <td>Chamassasya86</td>\n",
       "      <td>24</td>\n",
       "      <td>Male</td>\n",
       "      <td>100</td>\n",
       "      <td>Blindscythe</td>\n",
       "      <td>3.27</td>\n",
       "      <td>20-24</td>\n",
       "    </tr>\n",
       "    <tr>\n",
       "      <th>4</th>\n",
       "      <td>4</td>\n",
       "      <td>Iskosia90</td>\n",
       "      <td>23</td>\n",
       "      <td>Male</td>\n",
       "      <td>131</td>\n",
       "      <td>Fury</td>\n",
       "      <td>1.44</td>\n",
       "      <td>20-24</td>\n",
       "    </tr>\n",
       "  </tbody>\n",
       "</table>\n",
       "</div>"
      ],
      "text/plain": [
       "   Purchase ID             SN  Age Gender  Item ID  \\\n",
       "0            0        Lisim78   20   Male      108   \n",
       "1            1    Lisovynya38   40   Male      143   \n",
       "2            2     Ithergue48   24   Male       92   \n",
       "3            3  Chamassasya86   24   Male      100   \n",
       "4            4      Iskosia90   23   Male      131   \n",
       "\n",
       "                                   Item Name  Price Age Ranges  \n",
       "0  Extraction, Quickblade Of Trembling Hands   3.53      20-24  \n",
       "1                          Frenzied Scimitar   1.56        >40  \n",
       "2                               Final Critic   4.88      20-24  \n",
       "3                                Blindscythe   3.27      20-24  \n",
       "4                                       Fury   1.44      20-24  "
      ]
     },
     "execution_count": 92,
     "metadata": {},
     "output_type": "execute_result"
    }
   ],
   "source": [
    "#Categorize the existing players using the age bins. Hint: use pd.cut()\n",
    "purchase_data[\"Age Ranges\"] = pd.cut(purchase_data[\"Age\"], age_demo_bins, labels=group_lbl_names)\n",
    "purchase_data.head()\n"
   ]
  },
  {
   "cell_type": "code",
   "execution_count": 94,
   "metadata": {},
   "outputs": [
    {
     "data": {
      "text/plain": [
       "<pandas.core.groupby.generic.DataFrameGroupBy object at 0x1170372e8>"
      ]
     },
     "execution_count": 94,
     "metadata": {},
     "output_type": "execute_result"
    }
   ],
   "source": [
    "#Bin the purchase_data data frame by age\n",
    "groupby_age = purchase_data.groupby(\"Age Ranges\")\n",
    "groupby_age"
   ]
  },
  {
   "cell_type": "code",
   "execution_count": 95,
   "metadata": {},
   "outputs": [
    {
     "data": {
      "text/plain": [
       "Age Ranges\n",
       "<10       23\n",
       "10-14     28\n",
       "15-19    136\n",
       "20-24    365\n",
       "25-29    101\n",
       "30-34     73\n",
       "35-39     41\n",
       ">40       13\n",
       "Name: Purchase ID, dtype: int64"
      ]
     },
     "execution_count": 95,
     "metadata": {},
     "output_type": "execute_result"
    }
   ],
   "source": [
    "#Basic calculations to obtain purchase count  paa -purchasing analysis age\n",
    "purchase_count_paa = groupby_age[\"Purchase ID\"].count()\n",
    "purchase_count_paa"
   ]
  },
  {
   "cell_type": "code",
   "execution_count": 96,
   "metadata": {},
   "outputs": [
    {
     "data": {
      "text/plain": [
       "Age Ranges\n",
       "<10      3.353478\n",
       "10-14    2.956429\n",
       "15-19    3.035956\n",
       "20-24    3.052219\n",
       "25-29    2.900990\n",
       "30-34    2.931507\n",
       "35-39    3.601707\n",
       ">40      2.941538\n",
       "Name: Price, dtype: float64"
      ]
     },
     "execution_count": 96,
     "metadata": {},
     "output_type": "execute_result"
    }
   ],
   "source": [
    "#Basic calculations to obtain avg. purchase price\n",
    "average_purchase_price_paa = groupby_age[\"Price\"].mean()\n",
    "average_purchase_price_paa"
   ]
  },
  {
   "cell_type": "code",
   "execution_count": 97,
   "metadata": {},
   "outputs": [
    {
     "data": {
      "text/plain": [
       "Age Ranges\n",
       "<10        77.13\n",
       "10-14      82.78\n",
       "15-19     412.89\n",
       "20-24    1114.06\n",
       "25-29     293.00\n",
       "30-34     214.00\n",
       "35-39     147.67\n",
       ">40        38.24\n",
       "Name: Price, dtype: float64"
      ]
     },
     "execution_count": 97,
     "metadata": {},
     "output_type": "execute_result"
    }
   ],
   "source": [
    "#Basic calculations to obtain total purchase value\n",
    "total_purchase_value_paa = groupby_age[\"Price\"].sum()\n",
    "total_purchase_value_paa"
   ]
  },
  {
   "cell_type": "code",
   "execution_count": null,
   "metadata": {},
   "outputs": [],
   "source": [
    "# Count total players by age category\n",
    "total_count_ages = age_grouped[\"SN\"].nunique()"
   ]
  },
  {
   "cell_type": "code",
   "execution_count": 106,
   "metadata": {
    "scrolled": true
   },
   "outputs": [
    {
     "data": {
      "text/plain": [
       "<10      4.537059\n",
       "10-14    3.762727\n",
       "15-19    3.858785\n",
       "20-24    4.318062\n",
       "25-29    3.805195\n",
       "30-34    4.115385\n",
       "35-39    4.763548\n",
       ">40      3.186667\n",
       "dtype: float64"
      ]
     },
     "execution_count": 106,
     "metadata": {},
     "output_type": "execute_result"
    }
   ],
   "source": [
    "#Basic calculations to obtain avg. purchase total per person\n",
    "avg_purchase_per_person_paa = total_purchase_value_paa/total_count_ages\n",
    "avg_purchase_per_person_paa"
   ]
  },
  {
   "cell_type": "code",
   "execution_count": 107,
   "metadata": {},
   "outputs": [
    {
     "data": {
      "text/html": [
       "<div>\n",
       "<style scoped>\n",
       "    .dataframe tbody tr th:only-of-type {\n",
       "        vertical-align: middle;\n",
       "    }\n",
       "\n",
       "    .dataframe tbody tr th {\n",
       "        vertical-align: top;\n",
       "    }\n",
       "\n",
       "    .dataframe thead th {\n",
       "        text-align: right;\n",
       "    }\n",
       "</style>\n",
       "<table border=\"1\" class=\"dataframe\">\n",
       "  <thead>\n",
       "    <tr style=\"text-align: right;\">\n",
       "      <th></th>\n",
       "      <th>Purchase Count</th>\n",
       "      <th>Average Purchase Price</th>\n",
       "      <th>Total Purchase Value</th>\n",
       "      <th>Average Purchase Total per Person</th>\n",
       "    </tr>\n",
       "  </thead>\n",
       "  <tbody>\n",
       "    <tr>\n",
       "      <th>&lt;10</th>\n",
       "      <td>23</td>\n",
       "      <td>3.353478</td>\n",
       "      <td>77.13</td>\n",
       "      <td>4.537059</td>\n",
       "    </tr>\n",
       "    <tr>\n",
       "      <th>10-14</th>\n",
       "      <td>28</td>\n",
       "      <td>2.956429</td>\n",
       "      <td>82.78</td>\n",
       "      <td>3.762727</td>\n",
       "    </tr>\n",
       "    <tr>\n",
       "      <th>15-19</th>\n",
       "      <td>136</td>\n",
       "      <td>3.035956</td>\n",
       "      <td>412.89</td>\n",
       "      <td>3.858785</td>\n",
       "    </tr>\n",
       "    <tr>\n",
       "      <th>20-24</th>\n",
       "      <td>365</td>\n",
       "      <td>3.052219</td>\n",
       "      <td>1114.06</td>\n",
       "      <td>4.318062</td>\n",
       "    </tr>\n",
       "    <tr>\n",
       "      <th>25-29</th>\n",
       "      <td>101</td>\n",
       "      <td>2.900990</td>\n",
       "      <td>293.00</td>\n",
       "      <td>3.805195</td>\n",
       "    </tr>\n",
       "    <tr>\n",
       "      <th>30-34</th>\n",
       "      <td>73</td>\n",
       "      <td>2.931507</td>\n",
       "      <td>214.00</td>\n",
       "      <td>4.115385</td>\n",
       "    </tr>\n",
       "    <tr>\n",
       "      <th>35-39</th>\n",
       "      <td>41</td>\n",
       "      <td>3.601707</td>\n",
       "      <td>147.67</td>\n",
       "      <td>4.763548</td>\n",
       "    </tr>\n",
       "    <tr>\n",
       "      <th>&gt;40</th>\n",
       "      <td>13</td>\n",
       "      <td>2.941538</td>\n",
       "      <td>38.24</td>\n",
       "      <td>3.186667</td>\n",
       "    </tr>\n",
       "  </tbody>\n",
       "</table>\n",
       "</div>"
      ],
      "text/plain": [
       "       Purchase Count  Average Purchase Price  Total Purchase Value  \\\n",
       "<10                23                3.353478                 77.13   \n",
       "10-14              28                2.956429                 82.78   \n",
       "15-19             136                3.035956                412.89   \n",
       "20-24             365                3.052219               1114.06   \n",
       "25-29             101                2.900990                293.00   \n",
       "30-34              73                2.931507                214.00   \n",
       "35-39              41                3.601707                147.67   \n",
       ">40                13                2.941538                 38.24   \n",
       "\n",
       "       Average Purchase Total per Person  \n",
       "<10                             4.537059  \n",
       "10-14                           3.762727  \n",
       "15-19                           3.858785  \n",
       "20-24                           4.318062  \n",
       "25-29                           3.805195  \n",
       "30-34                           4.115385  \n",
       "35-39                           4.763548  \n",
       ">40                             3.186667  "
      ]
     },
     "execution_count": 107,
     "metadata": {},
     "output_type": "execute_result"
    }
   ],
   "source": [
    "#Create a summary data frame to hold the results\n",
    "pa_age_demographics = pd.DataFrame({\"Purchase Count\": purchase_count_paa,\n",
    "                                 \"Average Purchase Price\": average_purchase_price_paa,\n",
    "                                 \"Total Purchase Value\":total_purchase_value_paa,\n",
    "                                 \"Average Purchase Total per Person\": avg_purchase_per_person_paa})\n",
    "\n",
    "pa_age_demographics\n"
   ]
  },
  {
   "cell_type": "code",
   "execution_count": 108,
   "metadata": {},
   "outputs": [
    {
     "data": {
      "text/html": [
       "<style  type=\"text/css\" >\n",
       "</style><table id=\"T_426e2ca2_743a_11e9_b7c8_acde48001122\" ><thead>    <tr>        <th class=\"blank level0\" ></th>        <th class=\"col_heading level0 col0\" >Purchase Count</th>        <th class=\"col_heading level0 col1\" >Average Purchase Price</th>        <th class=\"col_heading level0 col2\" >Total Purchase Value</th>        <th class=\"col_heading level0 col3\" >Average Purchase Total per Person</th>    </tr></thead><tbody>\n",
       "                <tr>\n",
       "                        <th id=\"T_426e2ca2_743a_11e9_b7c8_acde48001122level0_row0\" class=\"row_heading level0 row0\" ><10</th>\n",
       "                        <td id=\"T_426e2ca2_743a_11e9_b7c8_acde48001122row0_col0\" class=\"data row0 col0\" >23</td>\n",
       "                        <td id=\"T_426e2ca2_743a_11e9_b7c8_acde48001122row0_col1\" class=\"data row0 col1\" >$3.35</td>\n",
       "                        <td id=\"T_426e2ca2_743a_11e9_b7c8_acde48001122row0_col2\" class=\"data row0 col2\" >$77.13</td>\n",
       "                        <td id=\"T_426e2ca2_743a_11e9_b7c8_acde48001122row0_col3\" class=\"data row0 col3\" >$4.54</td>\n",
       "            </tr>\n",
       "            <tr>\n",
       "                        <th id=\"T_426e2ca2_743a_11e9_b7c8_acde48001122level0_row1\" class=\"row_heading level0 row1\" >10-14</th>\n",
       "                        <td id=\"T_426e2ca2_743a_11e9_b7c8_acde48001122row1_col0\" class=\"data row1 col0\" >28</td>\n",
       "                        <td id=\"T_426e2ca2_743a_11e9_b7c8_acde48001122row1_col1\" class=\"data row1 col1\" >$2.96</td>\n",
       "                        <td id=\"T_426e2ca2_743a_11e9_b7c8_acde48001122row1_col2\" class=\"data row1 col2\" >$82.78</td>\n",
       "                        <td id=\"T_426e2ca2_743a_11e9_b7c8_acde48001122row1_col3\" class=\"data row1 col3\" >$3.76</td>\n",
       "            </tr>\n",
       "            <tr>\n",
       "                        <th id=\"T_426e2ca2_743a_11e9_b7c8_acde48001122level0_row2\" class=\"row_heading level0 row2\" >15-19</th>\n",
       "                        <td id=\"T_426e2ca2_743a_11e9_b7c8_acde48001122row2_col0\" class=\"data row2 col0\" >136</td>\n",
       "                        <td id=\"T_426e2ca2_743a_11e9_b7c8_acde48001122row2_col1\" class=\"data row2 col1\" >$3.04</td>\n",
       "                        <td id=\"T_426e2ca2_743a_11e9_b7c8_acde48001122row2_col2\" class=\"data row2 col2\" >$412.89</td>\n",
       "                        <td id=\"T_426e2ca2_743a_11e9_b7c8_acde48001122row2_col3\" class=\"data row2 col3\" >$3.86</td>\n",
       "            </tr>\n",
       "            <tr>\n",
       "                        <th id=\"T_426e2ca2_743a_11e9_b7c8_acde48001122level0_row3\" class=\"row_heading level0 row3\" >20-24</th>\n",
       "                        <td id=\"T_426e2ca2_743a_11e9_b7c8_acde48001122row3_col0\" class=\"data row3 col0\" >365</td>\n",
       "                        <td id=\"T_426e2ca2_743a_11e9_b7c8_acde48001122row3_col1\" class=\"data row3 col1\" >$3.05</td>\n",
       "                        <td id=\"T_426e2ca2_743a_11e9_b7c8_acde48001122row3_col2\" class=\"data row3 col2\" >$1,114.06</td>\n",
       "                        <td id=\"T_426e2ca2_743a_11e9_b7c8_acde48001122row3_col3\" class=\"data row3 col3\" >$4.32</td>\n",
       "            </tr>\n",
       "            <tr>\n",
       "                        <th id=\"T_426e2ca2_743a_11e9_b7c8_acde48001122level0_row4\" class=\"row_heading level0 row4\" >25-29</th>\n",
       "                        <td id=\"T_426e2ca2_743a_11e9_b7c8_acde48001122row4_col0\" class=\"data row4 col0\" >101</td>\n",
       "                        <td id=\"T_426e2ca2_743a_11e9_b7c8_acde48001122row4_col1\" class=\"data row4 col1\" >$2.90</td>\n",
       "                        <td id=\"T_426e2ca2_743a_11e9_b7c8_acde48001122row4_col2\" class=\"data row4 col2\" >$293.00</td>\n",
       "                        <td id=\"T_426e2ca2_743a_11e9_b7c8_acde48001122row4_col3\" class=\"data row4 col3\" >$3.81</td>\n",
       "            </tr>\n",
       "            <tr>\n",
       "                        <th id=\"T_426e2ca2_743a_11e9_b7c8_acde48001122level0_row5\" class=\"row_heading level0 row5\" >30-34</th>\n",
       "                        <td id=\"T_426e2ca2_743a_11e9_b7c8_acde48001122row5_col0\" class=\"data row5 col0\" >73</td>\n",
       "                        <td id=\"T_426e2ca2_743a_11e9_b7c8_acde48001122row5_col1\" class=\"data row5 col1\" >$2.93</td>\n",
       "                        <td id=\"T_426e2ca2_743a_11e9_b7c8_acde48001122row5_col2\" class=\"data row5 col2\" >$214.00</td>\n",
       "                        <td id=\"T_426e2ca2_743a_11e9_b7c8_acde48001122row5_col3\" class=\"data row5 col3\" >$4.12</td>\n",
       "            </tr>\n",
       "            <tr>\n",
       "                        <th id=\"T_426e2ca2_743a_11e9_b7c8_acde48001122level0_row6\" class=\"row_heading level0 row6\" >35-39</th>\n",
       "                        <td id=\"T_426e2ca2_743a_11e9_b7c8_acde48001122row6_col0\" class=\"data row6 col0\" >41</td>\n",
       "                        <td id=\"T_426e2ca2_743a_11e9_b7c8_acde48001122row6_col1\" class=\"data row6 col1\" >$3.60</td>\n",
       "                        <td id=\"T_426e2ca2_743a_11e9_b7c8_acde48001122row6_col2\" class=\"data row6 col2\" >$147.67</td>\n",
       "                        <td id=\"T_426e2ca2_743a_11e9_b7c8_acde48001122row6_col3\" class=\"data row6 col3\" >$4.76</td>\n",
       "            </tr>\n",
       "            <tr>\n",
       "                        <th id=\"T_426e2ca2_743a_11e9_b7c8_acde48001122level0_row7\" class=\"row_heading level0 row7\" >>40</th>\n",
       "                        <td id=\"T_426e2ca2_743a_11e9_b7c8_acde48001122row7_col0\" class=\"data row7 col0\" >13</td>\n",
       "                        <td id=\"T_426e2ca2_743a_11e9_b7c8_acde48001122row7_col1\" class=\"data row7 col1\" >$2.94</td>\n",
       "                        <td id=\"T_426e2ca2_743a_11e9_b7c8_acde48001122row7_col2\" class=\"data row7 col2\" >$38.24</td>\n",
       "                        <td id=\"T_426e2ca2_743a_11e9_b7c8_acde48001122row7_col3\" class=\"data row7 col3\" >$3.19</td>\n",
       "            </tr>\n",
       "    </tbody></table>"
      ],
      "text/plain": [
       "<pandas.io.formats.style.Styler at 0x11706a1d0>"
      ]
     },
     "execution_count": 108,
     "metadata": {},
     "output_type": "execute_result"
    }
   ],
   "source": [
    "#Optional: give the displayed data cleaner formatting\n",
    "pa_age_demographics.index.name = None\n",
    "\n",
    "pa_age_demographics.style.format({\"Average Purchase Price\":\"${:,.2f}\",\n",
    "                               \"Total Purchase Value\":\"${:,.2f}\",\n",
    "                               \"Average Purchase Total per Person\":\"${:,.2f}\"})\n",
    "\n"
   ]
  },
  {
   "cell_type": "code",
   "execution_count": null,
   "metadata": {},
   "outputs": [],
   "source": []
  },
  {
   "cell_type": "markdown",
   "metadata": {},
   "source": [
    "## Top Spenders"
   ]
  },
  {
   "cell_type": "markdown",
   "metadata": {},
   "source": [
    "* Run basic calculations to obtain the results in the table below\n",
    "\n",
    "\n",
    "* Create a summary data frame to hold the results\n",
    "\n",
    "\n",
    "* Sort the total purchase value column in descending order\n",
    "\n",
    "\n",
    "* Optional: give the displayed data cleaner formatting\n",
    "\n",
    "\n",
    "* Display a preview of the summary data frame\n",
    "\n"
   ]
  },
  {
   "cell_type": "code",
   "execution_count": 109,
   "metadata": {},
   "outputs": [
    {
     "data": {
      "text/plain": [
       "<pandas.core.groupby.generic.DataFrameGroupBy object at 0x11706a128>"
      ]
     },
     "execution_count": 109,
     "metadata": {},
     "output_type": "execute_result"
    }
   ],
   "source": [
    "# Group purchase data by screen names\n",
    "top_senders = purchase_data.groupby(\"SN\")\n",
    "top_senders\n"
   ]
  },
  {
   "cell_type": "code",
   "execution_count": 110,
   "metadata": {},
   "outputs": [
    {
     "data": {
      "text/plain": [
       "SN\n",
       "Adairialis76       1\n",
       "Adastirin33        1\n",
       "Aeda94             1\n",
       "Aela59             1\n",
       "Aelaria33          1\n",
       "Aelastirin39       2\n",
       "Aelidru27          1\n",
       "Aelin32            3\n",
       "Aelly27            2\n",
       "Aellynun67         1\n",
       "Aellyria80         1\n",
       "Aelollo59          2\n",
       "Aenarap34          1\n",
       "Aeral43            1\n",
       "Aeral68            1\n",
       "Aeral97            1\n",
       "Aeralria27         1\n",
       "Aeralstical35      1\n",
       "Aeri84             1\n",
       "Aerillorin70       1\n",
       "Aerithllora36      2\n",
       "Aerithnucal56      1\n",
       "Aerithnuphos61     1\n",
       "Aerithriaphos45    1\n",
       "Aerithriaphos46    1\n",
       "Aesri53            1\n",
       "Aesty53            2\n",
       "Aestysu37          2\n",
       "Aesur96            1\n",
       "Aesurstilis64      1\n",
       "                  ..\n",
       "Undosia27          1\n",
       "Undosian34         2\n",
       "Undotesta33        1\n",
       "Wailin72           1\n",
       "Yadacal26          2\n",
       "Yadaisuir65        1\n",
       "Yadam35            1\n",
       "Yadanu52           1\n",
       "Yadaphos40         2\n",
       "Yalae81            2\n",
       "Yalaeria91         1\n",
       "Yaliru88           1\n",
       "Yalo85             1\n",
       "Yalostiphos68      1\n",
       "Yana46             1\n",
       "Yarithllodeu72     1\n",
       "Yarithrgue83       1\n",
       "Yarithrin84        1\n",
       "Yarithsurgue62     1\n",
       "Yarolwen77         1\n",
       "Yasrisu92          1\n",
       "Yastyriaphos75     1\n",
       "Yasur35            1\n",
       "Yasur85            1\n",
       "Yathecal72         1\n",
       "Yathecal82         3\n",
       "Yathedeu43         2\n",
       "Yoishirrala98      1\n",
       "Zhisrisu83         2\n",
       "Zontibe81          3\n",
       "Name: Purchase ID, Length: 576, dtype: int64"
      ]
     },
     "execution_count": 110,
     "metadata": {},
     "output_type": "execute_result"
    }
   ],
   "source": [
    "#Basic calculations to obtain Purchase Count ts-top senders\n",
    "purchase_count_ts = top_senders[\"Purchase ID\"].count()\n",
    "purchase_count_ts\n"
   ]
  },
  {
   "cell_type": "code",
   "execution_count": 111,
   "metadata": {},
   "outputs": [
    {
     "data": {
      "text/plain": [
       "SN\n",
       "Adairialis76       2.280000\n",
       "Adastirin33        4.480000\n",
       "Aeda94             4.910000\n",
       "Aela59             4.320000\n",
       "Aelaria33          1.790000\n",
       "Aelastirin39       3.645000\n",
       "Aelidru27          1.090000\n",
       "Aelin32            2.993333\n",
       "Aelly27            3.395000\n",
       "Aellynun67         3.740000\n",
       "Aellyria80         3.080000\n",
       "Aelollo59          2.815000\n",
       "Aenarap34          2.960000\n",
       "Aeral43            4.400000\n",
       "Aeral68            4.000000\n",
       "Aeral97            4.800000\n",
       "Aeralria27         4.090000\n",
       "Aeralstical35      2.960000\n",
       "Aeri84             1.610000\n",
       "Aerillorin70       3.330000\n",
       "Aerithllora36      4.320000\n",
       "Aerithnucal56      4.400000\n",
       "Aerithnuphos61     4.910000\n",
       "Aerithriaphos45    1.560000\n",
       "Aerithriaphos46    2.180000\n",
       "Aesri53            1.760000\n",
       "Aesty53            1.955000\n",
       "Aestysu37          2.690000\n",
       "Aesur96            2.210000\n",
       "Aesurstilis64      1.030000\n",
       "                     ...   \n",
       "Undosia27          3.770000\n",
       "Undosian34         4.150000\n",
       "Undotesta33        4.740000\n",
       "Wailin72           2.730000\n",
       "Yadacal26          3.270000\n",
       "Yadaisuir65        4.090000\n",
       "Yadam35            2.480000\n",
       "Yadanu52           2.380000\n",
       "Yadaphos40         2.675000\n",
       "Yalae81            3.345000\n",
       "Yalaeria91         1.060000\n",
       "Yaliru88           3.030000\n",
       "Yalo85             3.650000\n",
       "Yalostiphos68      4.400000\n",
       "Yana46             3.550000\n",
       "Yarithllodeu72     3.750000\n",
       "Yarithrgue83       3.450000\n",
       "Yarithrin84        4.140000\n",
       "Yarithsurgue62     4.940000\n",
       "Yarolwen77         4.430000\n",
       "Yasrisu92          3.440000\n",
       "Yastyriaphos75     4.750000\n",
       "Yasur35            4.480000\n",
       "Yasur85            1.100000\n",
       "Yathecal72         3.460000\n",
       "Yathecal82         2.073333\n",
       "Yathedeu43         3.010000\n",
       "Yoishirrala98      4.580000\n",
       "Zhisrisu83         3.945000\n",
       "Zontibe81          2.676667\n",
       "Name: Price, Length: 576, dtype: float64"
      ]
     },
     "execution_count": 111,
     "metadata": {},
     "output_type": "execute_result"
    }
   ],
   "source": [
    "#Basic calculations to obtain avg. purchase price ts-top senders\n",
    "avg_purchase_price_ts = top_senders[\"Price\"].mean()\n",
    "avg_purchase_price_ts\n"
   ]
  },
  {
   "cell_type": "code",
   "execution_count": 112,
   "metadata": {},
   "outputs": [
    {
     "data": {
      "text/plain": [
       "SN\n",
       "Adairialis76       2.28\n",
       "Adastirin33        4.48\n",
       "Aeda94             4.91\n",
       "Aela59             4.32\n",
       "Aelaria33          1.79\n",
       "Aelastirin39       7.29\n",
       "Aelidru27          1.09\n",
       "Aelin32            8.98\n",
       "Aelly27            6.79\n",
       "Aellynun67         3.74\n",
       "Aellyria80         3.08\n",
       "Aelollo59          5.63\n",
       "Aenarap34          2.96\n",
       "Aeral43            4.40\n",
       "Aeral68            4.00\n",
       "Aeral97            4.80\n",
       "Aeralria27         4.09\n",
       "Aeralstical35      2.96\n",
       "Aeri84             1.61\n",
       "Aerillorin70       3.33\n",
       "Aerithllora36      8.64\n",
       "Aerithnucal56      4.40\n",
       "Aerithnuphos61     4.91\n",
       "Aerithriaphos45    1.56\n",
       "Aerithriaphos46    2.18\n",
       "Aesri53            1.76\n",
       "Aesty53            3.91\n",
       "Aestysu37          5.38\n",
       "Aesur96            2.21\n",
       "Aesurstilis64      1.03\n",
       "                   ... \n",
       "Undosia27          3.77\n",
       "Undosian34         8.30\n",
       "Undotesta33        4.74\n",
       "Wailin72           2.73\n",
       "Yadacal26          6.54\n",
       "Yadaisuir65        4.09\n",
       "Yadam35            2.48\n",
       "Yadanu52           2.38\n",
       "Yadaphos40         5.35\n",
       "Yalae81            6.69\n",
       "Yalaeria91         1.06\n",
       "Yaliru88           3.03\n",
       "Yalo85             3.65\n",
       "Yalostiphos68      4.40\n",
       "Yana46             3.55\n",
       "Yarithllodeu72     3.75\n",
       "Yarithrgue83       3.45\n",
       "Yarithrin84        4.14\n",
       "Yarithsurgue62     4.94\n",
       "Yarolwen77         4.43\n",
       "Yasrisu92          3.44\n",
       "Yastyriaphos75     4.75\n",
       "Yasur35            4.48\n",
       "Yasur85            1.10\n",
       "Yathecal72         3.46\n",
       "Yathecal82         6.22\n",
       "Yathedeu43         6.02\n",
       "Yoishirrala98      4.58\n",
       "Zhisrisu83         7.89\n",
       "Zontibe81          8.03\n",
       "Name: Price, Length: 576, dtype: float64"
      ]
     },
     "execution_count": 112,
     "metadata": {},
     "output_type": "execute_result"
    }
   ],
   "source": [
    "#Basic calculations to obtain total purchase value ts-top senders\n",
    "total_purchase_value_ts = top_senders[\"Price\"].sum()\n",
    "total_purchase_value_ts\n",
    "\n"
   ]
  },
  {
   "cell_type": "code",
   "execution_count": 114,
   "metadata": {},
   "outputs": [
    {
     "data": {
      "text/html": [
       "<div>\n",
       "<style scoped>\n",
       "    .dataframe tbody tr th:only-of-type {\n",
       "        vertical-align: middle;\n",
       "    }\n",
       "\n",
       "    .dataframe tbody tr th {\n",
       "        vertical-align: top;\n",
       "    }\n",
       "\n",
       "    .dataframe thead th {\n",
       "        text-align: right;\n",
       "    }\n",
       "</style>\n",
       "<table border=\"1\" class=\"dataframe\">\n",
       "  <thead>\n",
       "    <tr style=\"text-align: right;\">\n",
       "      <th></th>\n",
       "      <th>Purchase Count</th>\n",
       "      <th>Average Purchase Price</th>\n",
       "      <th>Total Purchase Value</th>\n",
       "    </tr>\n",
       "    <tr>\n",
       "      <th>SN</th>\n",
       "      <th></th>\n",
       "      <th></th>\n",
       "      <th></th>\n",
       "    </tr>\n",
       "  </thead>\n",
       "  <tbody>\n",
       "    <tr>\n",
       "      <th>Adairialis76</th>\n",
       "      <td>1</td>\n",
       "      <td>2.28</td>\n",
       "      <td>2.28</td>\n",
       "    </tr>\n",
       "    <tr>\n",
       "      <th>Adastirin33</th>\n",
       "      <td>1</td>\n",
       "      <td>4.48</td>\n",
       "      <td>4.48</td>\n",
       "    </tr>\n",
       "    <tr>\n",
       "      <th>Aeda94</th>\n",
       "      <td>1</td>\n",
       "      <td>4.91</td>\n",
       "      <td>4.91</td>\n",
       "    </tr>\n",
       "    <tr>\n",
       "      <th>Aela59</th>\n",
       "      <td>1</td>\n",
       "      <td>4.32</td>\n",
       "      <td>4.32</td>\n",
       "    </tr>\n",
       "    <tr>\n",
       "      <th>Aelaria33</th>\n",
       "      <td>1</td>\n",
       "      <td>1.79</td>\n",
       "      <td>1.79</td>\n",
       "    </tr>\n",
       "  </tbody>\n",
       "</table>\n",
       "</div>"
      ],
      "text/plain": [
       "              Purchase Count  Average Purchase Price  Total Purchase Value\n",
       "SN                                                                        \n",
       "Adairialis76               1                    2.28                  2.28\n",
       "Adastirin33                1                    4.48                  4.48\n",
       "Aeda94                     1                    4.91                  4.91\n",
       "Aela59                     1                    4.32                  4.32\n",
       "Aelaria33                  1                    1.79                  1.79"
      ]
     },
     "execution_count": 114,
     "metadata": {},
     "output_type": "execute_result"
    }
   ],
   "source": [
    "# Create data frame with obtained values\n",
    "top_spenders_summary = pd.DataFrame({\"Purchase Count\": purchase_count_ts,\n",
    "                                     \"Average Purchase Price\": avg_purchase_price_ts,\n",
    "                                     \"Total Purchase Value\":total_purchase_value_ts}\n",
    "                                   )    \n",
    "top_spenders_summary.head()"
   ]
  },
  {
   "cell_type": "code",
   "execution_count": 121,
   "metadata": {},
   "outputs": [
    {
     "data": {
      "text/html": [
       "<div>\n",
       "<style scoped>\n",
       "    .dataframe tbody tr th:only-of-type {\n",
       "        vertical-align: middle;\n",
       "    }\n",
       "\n",
       "    .dataframe tbody tr th {\n",
       "        vertical-align: top;\n",
       "    }\n",
       "\n",
       "    .dataframe thead th {\n",
       "        text-align: right;\n",
       "    }\n",
       "</style>\n",
       "<table border=\"1\" class=\"dataframe\">\n",
       "  <thead>\n",
       "    <tr style=\"text-align: right;\">\n",
       "      <th></th>\n",
       "      <th>Purchase Count</th>\n",
       "      <th>Average Purchase Price</th>\n",
       "      <th>Total Purchase Value</th>\n",
       "    </tr>\n",
       "    <tr>\n",
       "      <th>SN</th>\n",
       "      <th></th>\n",
       "      <th></th>\n",
       "      <th></th>\n",
       "    </tr>\n",
       "  </thead>\n",
       "  <tbody>\n",
       "    <tr>\n",
       "      <th>Lisosia93</th>\n",
       "      <td>5</td>\n",
       "      <td>3.792000</td>\n",
       "      <td>18.96</td>\n",
       "    </tr>\n",
       "    <tr>\n",
       "      <th>Idastidru52</th>\n",
       "      <td>4</td>\n",
       "      <td>3.862500</td>\n",
       "      <td>15.45</td>\n",
       "    </tr>\n",
       "    <tr>\n",
       "      <th>Chamjask73</th>\n",
       "      <td>3</td>\n",
       "      <td>4.610000</td>\n",
       "      <td>13.83</td>\n",
       "    </tr>\n",
       "    <tr>\n",
       "      <th>Iral74</th>\n",
       "      <td>4</td>\n",
       "      <td>3.405000</td>\n",
       "      <td>13.62</td>\n",
       "    </tr>\n",
       "    <tr>\n",
       "      <th>Iskadarya95</th>\n",
       "      <td>3</td>\n",
       "      <td>4.366667</td>\n",
       "      <td>13.10</td>\n",
       "    </tr>\n",
       "  </tbody>\n",
       "</table>\n",
       "</div>"
      ],
      "text/plain": [
       "             Purchase Count  Average Purchase Price  Total Purchase Value\n",
       "SN                                                                       \n",
       "Lisosia93                 5                3.792000                 18.96\n",
       "Idastidru52               4                3.862500                 15.45\n",
       "Chamjask73                3                4.610000                 13.83\n",
       "Iral74                    4                3.405000                 13.62\n",
       "Iskadarya95               3                4.366667                 13.10"
      ]
     },
     "execution_count": 121,
     "metadata": {},
     "output_type": "execute_result"
    }
   ],
   "source": [
    "# Sort in descending order to obtain top 5 spender names \n",
    "top_spenders_sum_format = top_spenders_summary.sort_values([\"Total Purchase Value\"], ascending=False).head()\n",
    "top_spenders_sum_format"
   ]
  },
  {
   "cell_type": "code",
   "execution_count": 122,
   "metadata": {},
   "outputs": [
    {
     "data": {
      "text/html": [
       "<style  type=\"text/css\" >\n",
       "</style><table id=\"T_14b83c62_743c_11e9_9d29_acde48001122\" ><thead>    <tr>        <th class=\"blank level0\" ></th>        <th class=\"col_heading level0 col0\" >Purchase Count</th>        <th class=\"col_heading level0 col1\" >Average Purchase Price</th>        <th class=\"col_heading level0 col2\" >Total Purchase Value</th>    </tr>    <tr>        <th class=\"index_name level0\" >SN</th>        <th class=\"blank\" ></th>        <th class=\"blank\" ></th>        <th class=\"blank\" ></th>    </tr></thead><tbody>\n",
       "                <tr>\n",
       "                        <th id=\"T_14b83c62_743c_11e9_9d29_acde48001122level0_row0\" class=\"row_heading level0 row0\" >Lisosia93</th>\n",
       "                        <td id=\"T_14b83c62_743c_11e9_9d29_acde48001122row0_col0\" class=\"data row0 col0\" >5</td>\n",
       "                        <td id=\"T_14b83c62_743c_11e9_9d29_acde48001122row0_col1\" class=\"data row0 col1\" >$3.79</td>\n",
       "                        <td id=\"T_14b83c62_743c_11e9_9d29_acde48001122row0_col2\" class=\"data row0 col2\" >$18.96</td>\n",
       "            </tr>\n",
       "            <tr>\n",
       "                        <th id=\"T_14b83c62_743c_11e9_9d29_acde48001122level0_row1\" class=\"row_heading level0 row1\" >Idastidru52</th>\n",
       "                        <td id=\"T_14b83c62_743c_11e9_9d29_acde48001122row1_col0\" class=\"data row1 col0\" >4</td>\n",
       "                        <td id=\"T_14b83c62_743c_11e9_9d29_acde48001122row1_col1\" class=\"data row1 col1\" >$3.86</td>\n",
       "                        <td id=\"T_14b83c62_743c_11e9_9d29_acde48001122row1_col2\" class=\"data row1 col2\" >$15.45</td>\n",
       "            </tr>\n",
       "            <tr>\n",
       "                        <th id=\"T_14b83c62_743c_11e9_9d29_acde48001122level0_row2\" class=\"row_heading level0 row2\" >Chamjask73</th>\n",
       "                        <td id=\"T_14b83c62_743c_11e9_9d29_acde48001122row2_col0\" class=\"data row2 col0\" >3</td>\n",
       "                        <td id=\"T_14b83c62_743c_11e9_9d29_acde48001122row2_col1\" class=\"data row2 col1\" >$4.61</td>\n",
       "                        <td id=\"T_14b83c62_743c_11e9_9d29_acde48001122row2_col2\" class=\"data row2 col2\" >$13.83</td>\n",
       "            </tr>\n",
       "            <tr>\n",
       "                        <th id=\"T_14b83c62_743c_11e9_9d29_acde48001122level0_row3\" class=\"row_heading level0 row3\" >Iral74</th>\n",
       "                        <td id=\"T_14b83c62_743c_11e9_9d29_acde48001122row3_col0\" class=\"data row3 col0\" >4</td>\n",
       "                        <td id=\"T_14b83c62_743c_11e9_9d29_acde48001122row3_col1\" class=\"data row3 col1\" >$3.40</td>\n",
       "                        <td id=\"T_14b83c62_743c_11e9_9d29_acde48001122row3_col2\" class=\"data row3 col2\" >$13.62</td>\n",
       "            </tr>\n",
       "            <tr>\n",
       "                        <th id=\"T_14b83c62_743c_11e9_9d29_acde48001122level0_row4\" class=\"row_heading level0 row4\" >Iskadarya95</th>\n",
       "                        <td id=\"T_14b83c62_743c_11e9_9d29_acde48001122row4_col0\" class=\"data row4 col0\" >3</td>\n",
       "                        <td id=\"T_14b83c62_743c_11e9_9d29_acde48001122row4_col1\" class=\"data row4 col1\" >$4.37</td>\n",
       "                        <td id=\"T_14b83c62_743c_11e9_9d29_acde48001122row4_col2\" class=\"data row4 col2\" >$13.10</td>\n",
       "            </tr>\n",
       "    </tbody></table>"
      ],
      "text/plain": [
       "<pandas.io.formats.style.Styler at 0x1170c9e80>"
      ]
     },
     "execution_count": 122,
     "metadata": {},
     "output_type": "execute_result"
    }
   ],
   "source": [
    "# More Formatting\n",
    "top_spenders_sum_format.style.format({\"Average Purchase Total\":\"${:,.2f}\",\n",
    "                                     \"Average Purchase Price\":\"${:,.2f}\", \n",
    "                                     \"Total Purchase Value\":\"${:,.2f}\"})\n",
    "\n",
    "\n"
   ]
  },
  {
   "cell_type": "code",
   "execution_count": null,
   "metadata": {},
   "outputs": [],
   "source": []
  },
  {
   "cell_type": "markdown",
   "metadata": {},
   "source": [
    "## Most Popular Items"
   ]
  },
  {
   "cell_type": "markdown",
   "metadata": {},
   "source": [
    "* Retrieve the Item ID, Item Name, and Item Price columns\n",
    "\n",
    "\n",
    "* Group by Item ID and Item Name. Perform calculations to obtain purchase count, item price, and total purchase value\n",
    "\n",
    "\n",
    "* Create a summary data frame to hold the results\n",
    "\n",
    "\n",
    "* Sort the purchase count column in descending order\n",
    "\n",
    "\n",
    "* Optional: give the displayed data cleaner formatting\n",
    "\n",
    "\n",
    "* Display a preview of the summary data frame\n",
    "\n"
   ]
  },
  {
   "cell_type": "code",
   "execution_count": 123,
   "metadata": {},
   "outputs": [
    {
     "data": {
      "text/html": [
       "<div>\n",
       "<style scoped>\n",
       "    .dataframe tbody tr th:only-of-type {\n",
       "        vertical-align: middle;\n",
       "    }\n",
       "\n",
       "    .dataframe tbody tr th {\n",
       "        vertical-align: top;\n",
       "    }\n",
       "\n",
       "    .dataframe thead th {\n",
       "        text-align: right;\n",
       "    }\n",
       "</style>\n",
       "<table border=\"1\" class=\"dataframe\">\n",
       "  <thead>\n",
       "    <tr style=\"text-align: right;\">\n",
       "      <th></th>\n",
       "      <th>Item ID</th>\n",
       "      <th>Item Name</th>\n",
       "      <th>Price</th>\n",
       "    </tr>\n",
       "  </thead>\n",
       "  <tbody>\n",
       "    <tr>\n",
       "      <th>0</th>\n",
       "      <td>108</td>\n",
       "      <td>Extraction, Quickblade Of Trembling Hands</td>\n",
       "      <td>3.53</td>\n",
       "    </tr>\n",
       "    <tr>\n",
       "      <th>1</th>\n",
       "      <td>143</td>\n",
       "      <td>Frenzied Scimitar</td>\n",
       "      <td>1.56</td>\n",
       "    </tr>\n",
       "    <tr>\n",
       "      <th>2</th>\n",
       "      <td>92</td>\n",
       "      <td>Final Critic</td>\n",
       "      <td>4.88</td>\n",
       "    </tr>\n",
       "    <tr>\n",
       "      <th>3</th>\n",
       "      <td>100</td>\n",
       "      <td>Blindscythe</td>\n",
       "      <td>3.27</td>\n",
       "    </tr>\n",
       "    <tr>\n",
       "      <th>4</th>\n",
       "      <td>131</td>\n",
       "      <td>Fury</td>\n",
       "      <td>1.44</td>\n",
       "    </tr>\n",
       "  </tbody>\n",
       "</table>\n",
       "</div>"
      ],
      "text/plain": [
       "   Item ID                                  Item Name  Price\n",
       "0      108  Extraction, Quickblade Of Trembling Hands   3.53\n",
       "1      143                          Frenzied Scimitar   1.56\n",
       "2       92                               Final Critic   4.88\n",
       "3      100                                Blindscythe   3.27\n",
       "4      131                                       Fury   1.44"
      ]
     },
     "execution_count": 123,
     "metadata": {},
     "output_type": "execute_result"
    }
   ],
   "source": [
    "#Retrieve the Item ID, Item Name, and Item Price columns\n",
    "all_items = purchase_data[[\"Item ID\", \"Item Name\", \"Price\"]]\n",
    "all_items.head()"
   ]
  },
  {
   "cell_type": "code",
   "execution_count": 124,
   "metadata": {},
   "outputs": [
    {
     "data": {
      "text/plain": [
       "<pandas.core.groupby.generic.DataFrameGroupBy object at 0x117086a58>"
      ]
     },
     "execution_count": 124,
     "metadata": {},
     "output_type": "execute_result"
    }
   ],
   "source": [
    "#Group by Item ID and Item Name. \n",
    "all_items_groupby = all_items.groupby([\"Item ID\",\"Item Name\"])\n",
    "all_items_groupby\n"
   ]
  },
  {
   "cell_type": "code",
   "execution_count": 125,
   "metadata": {},
   "outputs": [
    {
     "data": {
      "text/plain": [
       "Item ID  Item Name                                   \n",
       "0        Splinter                                         4\n",
       "1        Crucifer                                         3\n",
       "2        Verdict                                          6\n",
       "3        Phantomlight                                     6\n",
       "4        Bloodlord's Fetish                               5\n",
       "5        Putrid Fan                                       4\n",
       "6        Rusty Skull                                      2\n",
       "7        Thorn, Satchel of Dark Souls                     7\n",
       "8        Purgatory, Gem of Regret                         3\n",
       "9        Thorn, Conqueror of the Corrupted                4\n",
       "10       Sleepwalker                                      4\n",
       "11       Brimstone                                        5\n",
       "12       Dawne                                            6\n",
       "13       Serenity                                         4\n",
       "14       Possessed Core                                   2\n",
       "15       Soul Infused Crystal                             5\n",
       "16       Restored Bauble                                  4\n",
       "17       Lazarus, Terror of the Earth                     4\n",
       "18       Torchlight, Bond of Storms                       2\n",
       "19       Pursuit, Cudgel of Necromancy                    8\n",
       "20       Netherbane                                       5\n",
       "21       Souleater                                        5\n",
       "22       Amnesia                                          6\n",
       "23       Crucifer                                         1\n",
       "24       Warped Fetish                                    5\n",
       "25       Hero Cane                                        6\n",
       "26       Unholy Wand                                      2\n",
       "27       Riddle, Tribute of Ended Dreams                  1\n",
       "28       Flux, Destroyer of Due Diligence                 2\n",
       "29       Chaos, Ender of the End                          5\n",
       "                                                         ..\n",
       "154      Feral Katana                                     4\n",
       "155      War-Forged Gold Deflector                        5\n",
       "156      Soul-Forged Steel Shortsword                     5\n",
       "157      Spada, Etcher of Hatred                          4\n",
       "158      Darkheart, Butcher of the Champion               2\n",
       "159      Oathbreaker, Spellblade of Trials                7\n",
       "160      Azurewrath                                       6\n",
       "161      Devine                                           5\n",
       "162      Abyssal Shard                                    5\n",
       "163      Thunderfury Scimitar                             5\n",
       "164      Exiled Doomblade                                 7\n",
       "165      Bone Crushing Silver Skewer                      4\n",
       "166      Thirsty Iron Reaver                              3\n",
       "167      Malice, Legacy of the Queen                      4\n",
       "168      Sun Strike, Jaws of Twisted Visions              2\n",
       "169      Interrogator, Blood Blade of the Queen           4\n",
       "170      Shadowsteel                                      4\n",
       "171      Scalpel                                          3\n",
       "172      Blade of the Grave                               4\n",
       "173      Stormfury Longsword                              2\n",
       "174      Primitive Blade                                  4\n",
       "175      Woeful Adamantite Claymore                       3\n",
       "176      Relentless Iron Skewer                           2\n",
       "177      Winterthorn, Defender of Shifting Worlds         2\n",
       "178      Oathbreaker, Last Hope of the Breaking Storm    12\n",
       "179      Wolf, Promise of the Moonwalker                  6\n",
       "180      Stormcaller                                      1\n",
       "181      Reaper's Toll                                    5\n",
       "182      Toothpick                                        3\n",
       "183      Dragon's Greatsword                              3\n",
       "Name: Price, Length: 183, dtype: int64"
      ]
     },
     "execution_count": 125,
     "metadata": {},
     "output_type": "execute_result"
    }
   ],
   "source": [
    "#Basic calculations to obtain  purchase count \n",
    "#mpi-most popular items\n",
    "purchase_count_mpi = all_items_groupby[\"Price\"].count()\n",
    "purchase_count_mpi"
   ]
  },
  {
   "cell_type": "code",
   "execution_count": 133,
   "metadata": {},
   "outputs": [
    {
     "data": {
      "text/plain": [
       "Item ID  Item Name                                   \n",
       "0        Splinter                                         5.12\n",
       "1        Crucifer                                         9.78\n",
       "2        Verdict                                         14.88\n",
       "3        Phantomlight                                    14.94\n",
       "4        Bloodlord's Fetish                               8.50\n",
       "5        Putrid Fan                                      16.32\n",
       "6        Rusty Skull                                      7.40\n",
       "7        Thorn, Satchel of Dark Souls                     9.31\n",
       "8        Purgatory, Gem of Regret                        11.79\n",
       "9        Thorn, Conqueror of the Corrupted               10.92\n",
       "10       Sleepwalker                                      7.16\n",
       "11       Brimstone                                       18.25\n",
       "12       Dawne                                            6.12\n",
       "13       Serenity                                         5.64\n",
       "14       Possessed Core                                   5.22\n",
       "15       Soul Infused Crystal                            14.80\n",
       "16       Restored Bauble                                 14.20\n",
       "17       Lazarus, Terror of the Earth                     6.80\n",
       "18       Torchlight, Bond of Storms                       9.30\n",
       "19       Pursuit, Cudgel of Necromancy                    8.16\n",
       "20       Netherbane                                      16.35\n",
       "21       Souleater                                        5.50\n",
       "22       Amnesia                                         13.08\n",
       "23       Crucifer                                         1.99\n",
       "24       Warped Fetish                                   19.05\n",
       "25       Hero Cane                                       26.10\n",
       "26       Unholy Wand                                      2.24\n",
       "27       Riddle, Tribute of Ended Dreams                  3.30\n",
       "28       Flux, Destroyer of Due Diligence                 2.12\n",
       "29       Chaos, Ender of the End                          9.90\n",
       "                                                         ...  \n",
       "154      Feral Katana                                    17.60\n",
       "155      War-Forged Gold Deflector                        5.05\n",
       "156      Soul-Forged Steel Shortsword                     8.85\n",
       "157      Spada, Etcher of Hatred                         19.20\n",
       "158      Darkheart, Butcher of the Champion               4.90\n",
       "159      Oathbreaker, Spellblade of Trials               21.56\n",
       "160      Azurewrath                                      26.40\n",
       "161      Devine                                           8.80\n",
       "162      Abyssal Shard                                   13.35\n",
       "163      Thunderfury Scimitar                            17.25\n",
       "164      Exiled Doomblade                                11.41\n",
       "165      Bone Crushing Silver Skewer                     19.44\n",
       "166      Thirsty Iron Reaver                              9.21\n",
       "167      Malice, Legacy of the Queen                     14.44\n",
       "168      Sun Strike, Jaws of Twisted Visions              2.96\n",
       "169      Interrogator, Blood Blade of the Queen           8.72\n",
       "170      Shadowsteel                                     15.88\n",
       "171      Scalpel                                          5.37\n",
       "172      Blade of the Grave                              12.56\n",
       "173      Stormfury Longsword                              9.86\n",
       "174      Primitive Blade                                 13.88\n",
       "175      Woeful Adamantite Claymore                      13.44\n",
       "176      Relentless Iron Skewer                           5.68\n",
       "177      Winterthorn, Defender of Shifting Worlds         4.16\n",
       "178      Oathbreaker, Last Hope of the Breaking Storm    50.76\n",
       "179      Wolf, Promise of the Moonwalker                 26.88\n",
       "180      Stormcaller                                      3.36\n",
       "181      Reaper's Toll                                    8.30\n",
       "182      Toothpick                                       12.09\n",
       "183      Dragon's Greatsword                              3.27\n",
       "Name: Price, Length: 183, dtype: float64"
      ]
     },
     "execution_count": 133,
     "metadata": {},
     "output_type": "execute_result"
    }
   ],
   "source": [
    "#Basic calculations to obtain total purchase value \n",
    "#mpi-most popular items\n",
    "total_purchase_value_mpi = (all_items_groupby[\"Price\"].sum()) \n",
    "total_purchase_value_mpi"
   ]
  },
  {
   "cell_type": "code",
   "execution_count": 134,
   "metadata": {},
   "outputs": [
    {
     "data": {
      "text/plain": [
       "Item ID  Item Name                                   \n",
       "0        Splinter                                        1.28\n",
       "1        Crucifer                                        3.26\n",
       "2        Verdict                                         2.48\n",
       "3        Phantomlight                                    2.49\n",
       "4        Bloodlord's Fetish                              1.70\n",
       "5        Putrid Fan                                      4.08\n",
       "6        Rusty Skull                                     3.70\n",
       "7        Thorn, Satchel of Dark Souls                    1.33\n",
       "8        Purgatory, Gem of Regret                        3.93\n",
       "9        Thorn, Conqueror of the Corrupted               2.73\n",
       "10       Sleepwalker                                     1.79\n",
       "11       Brimstone                                       3.65\n",
       "12       Dawne                                           1.02\n",
       "13       Serenity                                        1.41\n",
       "14       Possessed Core                                  2.61\n",
       "15       Soul Infused Crystal                            2.96\n",
       "16       Restored Bauble                                 3.55\n",
       "17       Lazarus, Terror of the Earth                    1.70\n",
       "18       Torchlight, Bond of Storms                      4.65\n",
       "19       Pursuit, Cudgel of Necromancy                   1.02\n",
       "20       Netherbane                                      3.27\n",
       "21       Souleater                                       1.10\n",
       "22       Amnesia                                         2.18\n",
       "23       Crucifer                                        1.99\n",
       "24       Warped Fetish                                   3.81\n",
       "25       Hero Cane                                       4.35\n",
       "26       Unholy Wand                                     1.12\n",
       "27       Riddle, Tribute of Ended Dreams                 3.30\n",
       "28       Flux, Destroyer of Due Diligence                1.06\n",
       "29       Chaos, Ender of the End                         1.98\n",
       "                                                         ... \n",
       "154      Feral Katana                                    4.40\n",
       "155      War-Forged Gold Deflector                       1.01\n",
       "156      Soul-Forged Steel Shortsword                    1.77\n",
       "157      Spada, Etcher of Hatred                         4.80\n",
       "158      Darkheart, Butcher of the Champion              2.45\n",
       "159      Oathbreaker, Spellblade of Trials               3.08\n",
       "160      Azurewrath                                      4.40\n",
       "161      Devine                                          1.76\n",
       "162      Abyssal Shard                                   2.67\n",
       "163      Thunderfury Scimitar                            3.45\n",
       "164      Exiled Doomblade                                1.63\n",
       "165      Bone Crushing Silver Skewer                     4.86\n",
       "166      Thirsty Iron Reaver                             3.07\n",
       "167      Malice, Legacy of the Queen                     3.61\n",
       "168      Sun Strike, Jaws of Twisted Visions             1.48\n",
       "169      Interrogator, Blood Blade of the Queen          2.18\n",
       "170      Shadowsteel                                     3.97\n",
       "171      Scalpel                                         1.79\n",
       "172      Blade of the Grave                              3.14\n",
       "173      Stormfury Longsword                             4.93\n",
       "174      Primitive Blade                                 3.47\n",
       "175      Woeful Adamantite Claymore                      4.48\n",
       "176      Relentless Iron Skewer                          2.84\n",
       "177      Winterthorn, Defender of Shifting Worlds        2.08\n",
       "178      Oathbreaker, Last Hope of the Breaking Storm    4.23\n",
       "179      Wolf, Promise of the Moonwalker                 4.48\n",
       "180      Stormcaller                                     3.36\n",
       "181      Reaper's Toll                                   1.66\n",
       "182      Toothpick                                       4.03\n",
       "183      Dragon's Greatsword                             1.09\n",
       "Name: Price, Length: 183, dtype: float64"
      ]
     },
     "execution_count": 134,
     "metadata": {},
     "output_type": "execute_result"
    }
   ],
   "source": [
    "#Basic calculations to obtain item price\n",
    "#mpi-most popular items\n",
    "item_price_mpi = total_purchase_value_mpi/purchase_count_mpi\n",
    "item_price_mpi"
   ]
  },
  {
   "cell_type": "code",
   "execution_count": 135,
   "metadata": {},
   "outputs": [
    {
     "data": {
      "text/html": [
       "<div>\n",
       "<style scoped>\n",
       "    .dataframe tbody tr th:only-of-type {\n",
       "        vertical-align: middle;\n",
       "    }\n",
       "\n",
       "    .dataframe tbody tr th {\n",
       "        vertical-align: top;\n",
       "    }\n",
       "\n",
       "    .dataframe thead th {\n",
       "        text-align: right;\n",
       "    }\n",
       "</style>\n",
       "<table border=\"1\" class=\"dataframe\">\n",
       "  <thead>\n",
       "    <tr style=\"text-align: right;\">\n",
       "      <th></th>\n",
       "      <th></th>\n",
       "      <th>Purchase Count</th>\n",
       "      <th>Item Price</th>\n",
       "      <th>Total Purchase Value</th>\n",
       "    </tr>\n",
       "    <tr>\n",
       "      <th>Item ID</th>\n",
       "      <th>Item Name</th>\n",
       "      <th></th>\n",
       "      <th></th>\n",
       "      <th></th>\n",
       "    </tr>\n",
       "  </thead>\n",
       "  <tbody>\n",
       "    <tr>\n",
       "      <th>0</th>\n",
       "      <th>Splinter</th>\n",
       "      <td>4</td>\n",
       "      <td>1.28</td>\n",
       "      <td>5.12</td>\n",
       "    </tr>\n",
       "    <tr>\n",
       "      <th>1</th>\n",
       "      <th>Crucifer</th>\n",
       "      <td>3</td>\n",
       "      <td>3.26</td>\n",
       "      <td>9.78</td>\n",
       "    </tr>\n",
       "    <tr>\n",
       "      <th>2</th>\n",
       "      <th>Verdict</th>\n",
       "      <td>6</td>\n",
       "      <td>2.48</td>\n",
       "      <td>14.88</td>\n",
       "    </tr>\n",
       "    <tr>\n",
       "      <th>3</th>\n",
       "      <th>Phantomlight</th>\n",
       "      <td>6</td>\n",
       "      <td>2.49</td>\n",
       "      <td>14.94</td>\n",
       "    </tr>\n",
       "    <tr>\n",
       "      <th>4</th>\n",
       "      <th>Bloodlord's Fetish</th>\n",
       "      <td>5</td>\n",
       "      <td>1.70</td>\n",
       "      <td>8.50</td>\n",
       "    </tr>\n",
       "  </tbody>\n",
       "</table>\n",
       "</div>"
      ],
      "text/plain": [
       "                            Purchase Count  Item Price  Total Purchase Value\n",
       "Item ID Item Name                                                           \n",
       "0       Splinter                         4        1.28                  5.12\n",
       "1       Crucifer                         3        3.26                  9.78\n",
       "2       Verdict                          6        2.48                 14.88\n",
       "3       Phantomlight                     6        2.49                 14.94\n",
       "4       Bloodlord's Fetish               5        1.70                  8.50"
      ]
     },
     "execution_count": 135,
     "metadata": {},
     "output_type": "execute_result"
    }
   ],
   "source": [
    "#Create a summary data frame to hold the results\n",
    "most_popular_items_summary = pd.DataFrame({\"Purchase Count\": purchase_count_mpi, \n",
    "                                           \"Item Price\": item_price_mpi,\n",
    "                                           \"Total Purchase Value\":total_purchase_value_mpi}\n",
    "                                         )\n",
    "\n",
    "most_popular_items_summary.head()\n"
   ]
  },
  {
   "cell_type": "code",
   "execution_count": 136,
   "metadata": {},
   "outputs": [
    {
     "data": {
      "text/html": [
       "<div>\n",
       "<style scoped>\n",
       "    .dataframe tbody tr th:only-of-type {\n",
       "        vertical-align: middle;\n",
       "    }\n",
       "\n",
       "    .dataframe tbody tr th {\n",
       "        vertical-align: top;\n",
       "    }\n",
       "\n",
       "    .dataframe thead th {\n",
       "        text-align: right;\n",
       "    }\n",
       "</style>\n",
       "<table border=\"1\" class=\"dataframe\">\n",
       "  <thead>\n",
       "    <tr style=\"text-align: right;\">\n",
       "      <th></th>\n",
       "      <th></th>\n",
       "      <th>Purchase Count</th>\n",
       "      <th>Item Price</th>\n",
       "      <th>Total Purchase Value</th>\n",
       "    </tr>\n",
       "    <tr>\n",
       "      <th>Item ID</th>\n",
       "      <th>Item Name</th>\n",
       "      <th></th>\n",
       "      <th></th>\n",
       "      <th></th>\n",
       "    </tr>\n",
       "  </thead>\n",
       "  <tbody>\n",
       "    <tr>\n",
       "      <th>178</th>\n",
       "      <th>Oathbreaker, Last Hope of the Breaking Storm</th>\n",
       "      <td>12</td>\n",
       "      <td>4.23</td>\n",
       "      <td>50.76</td>\n",
       "    </tr>\n",
       "    <tr>\n",
       "      <th>145</th>\n",
       "      <th>Fiery Glass Crusader</th>\n",
       "      <td>9</td>\n",
       "      <td>4.58</td>\n",
       "      <td>41.22</td>\n",
       "    </tr>\n",
       "    <tr>\n",
       "      <th>108</th>\n",
       "      <th>Extraction, Quickblade Of Trembling Hands</th>\n",
       "      <td>9</td>\n",
       "      <td>3.53</td>\n",
       "      <td>31.77</td>\n",
       "    </tr>\n",
       "    <tr>\n",
       "      <th>82</th>\n",
       "      <th>Nirvana</th>\n",
       "      <td>9</td>\n",
       "      <td>4.90</td>\n",
       "      <td>44.10</td>\n",
       "    </tr>\n",
       "    <tr>\n",
       "      <th>19</th>\n",
       "      <th>Pursuit, Cudgel of Necromancy</th>\n",
       "      <td>8</td>\n",
       "      <td>1.02</td>\n",
       "      <td>8.16</td>\n",
       "    </tr>\n",
       "  </tbody>\n",
       "</table>\n",
       "</div>"
      ],
      "text/plain": [
       "                                                      Purchase Count  \\\n",
       "Item ID Item Name                                                      \n",
       "178     Oathbreaker, Last Hope of the Breaking Storm              12   \n",
       "145     Fiery Glass Crusader                                       9   \n",
       "108     Extraction, Quickblade Of Trembling Hands                  9   \n",
       "82      Nirvana                                                    9   \n",
       "19      Pursuit, Cudgel of Necromancy                              8   \n",
       "\n",
       "                                                      Item Price  \\\n",
       "Item ID Item Name                                                  \n",
       "178     Oathbreaker, Last Hope of the Breaking Storm        4.23   \n",
       "145     Fiery Glass Crusader                                4.58   \n",
       "108     Extraction, Quickblade Of Trembling Hands           3.53   \n",
       "82      Nirvana                                             4.90   \n",
       "19      Pursuit, Cudgel of Necromancy                       1.02   \n",
       "\n",
       "                                                      Total Purchase Value  \n",
       "Item ID Item Name                                                           \n",
       "178     Oathbreaker, Last Hope of the Breaking Storm                 50.76  \n",
       "145     Fiery Glass Crusader                                         41.22  \n",
       "108     Extraction, Quickblade Of Trembling Hands                    31.77  \n",
       "82      Nirvana                                                      44.10  \n",
       "19      Pursuit, Cudgel of Necromancy                                 8.16  "
      ]
     },
     "execution_count": 136,
     "metadata": {},
     "output_type": "execute_result"
    }
   ],
   "source": [
    "#Sort the purchase count column in descending order\n",
    "mpi_desc = most_popular_items_summary.sort_values([\"Purchase Count\"], ascending=False).head()\n",
    "mpi_desc"
   ]
  },
  {
   "cell_type": "code",
   "execution_count": 138,
   "metadata": {},
   "outputs": [
    {
     "data": {
      "text/html": [
       "<style  type=\"text/css\" >\n",
       "</style><table id=\"T_f7b46b14_743d_11e9_83df_acde48001122\" ><thead>    <tr>        <th class=\"blank\" ></th>        <th class=\"blank level0\" ></th>        <th class=\"col_heading level0 col0\" >Purchase Count</th>        <th class=\"col_heading level0 col1\" >Item Price</th>        <th class=\"col_heading level0 col2\" >Total Purchase Value</th>    </tr>    <tr>        <th class=\"index_name level0\" >Item ID</th>        <th class=\"index_name level1\" >Item Name</th>        <th class=\"blank\" ></th>        <th class=\"blank\" ></th>        <th class=\"blank\" ></th>    </tr></thead><tbody>\n",
       "                <tr>\n",
       "                        <th id=\"T_f7b46b14_743d_11e9_83df_acde48001122level0_row0\" class=\"row_heading level0 row0\" >178</th>\n",
       "                        <th id=\"T_f7b46b14_743d_11e9_83df_acde48001122level1_row0\" class=\"row_heading level1 row0\" >Oathbreaker, Last Hope of the Breaking Storm</th>\n",
       "                        <td id=\"T_f7b46b14_743d_11e9_83df_acde48001122row0_col0\" class=\"data row0 col0\" >12</td>\n",
       "                        <td id=\"T_f7b46b14_743d_11e9_83df_acde48001122row0_col1\" class=\"data row0 col1\" >$4.23</td>\n",
       "                        <td id=\"T_f7b46b14_743d_11e9_83df_acde48001122row0_col2\" class=\"data row0 col2\" >$50.76</td>\n",
       "            </tr>\n",
       "            <tr>\n",
       "                        <th id=\"T_f7b46b14_743d_11e9_83df_acde48001122level0_row1\" class=\"row_heading level0 row1\" >145</th>\n",
       "                        <th id=\"T_f7b46b14_743d_11e9_83df_acde48001122level1_row1\" class=\"row_heading level1 row1\" >Fiery Glass Crusader</th>\n",
       "                        <td id=\"T_f7b46b14_743d_11e9_83df_acde48001122row1_col0\" class=\"data row1 col0\" >9</td>\n",
       "                        <td id=\"T_f7b46b14_743d_11e9_83df_acde48001122row1_col1\" class=\"data row1 col1\" >$4.58</td>\n",
       "                        <td id=\"T_f7b46b14_743d_11e9_83df_acde48001122row1_col2\" class=\"data row1 col2\" >$41.22</td>\n",
       "            </tr>\n",
       "            <tr>\n",
       "                        <th id=\"T_f7b46b14_743d_11e9_83df_acde48001122level0_row2\" class=\"row_heading level0 row2\" >108</th>\n",
       "                        <th id=\"T_f7b46b14_743d_11e9_83df_acde48001122level1_row2\" class=\"row_heading level1 row2\" >Extraction, Quickblade Of Trembling Hands</th>\n",
       "                        <td id=\"T_f7b46b14_743d_11e9_83df_acde48001122row2_col0\" class=\"data row2 col0\" >9</td>\n",
       "                        <td id=\"T_f7b46b14_743d_11e9_83df_acde48001122row2_col1\" class=\"data row2 col1\" >$3.53</td>\n",
       "                        <td id=\"T_f7b46b14_743d_11e9_83df_acde48001122row2_col2\" class=\"data row2 col2\" >$31.77</td>\n",
       "            </tr>\n",
       "            <tr>\n",
       "                        <th id=\"T_f7b46b14_743d_11e9_83df_acde48001122level0_row3\" class=\"row_heading level0 row3\" >82</th>\n",
       "                        <th id=\"T_f7b46b14_743d_11e9_83df_acde48001122level1_row3\" class=\"row_heading level1 row3\" >Nirvana</th>\n",
       "                        <td id=\"T_f7b46b14_743d_11e9_83df_acde48001122row3_col0\" class=\"data row3 col0\" >9</td>\n",
       "                        <td id=\"T_f7b46b14_743d_11e9_83df_acde48001122row3_col1\" class=\"data row3 col1\" >$4.90</td>\n",
       "                        <td id=\"T_f7b46b14_743d_11e9_83df_acde48001122row3_col2\" class=\"data row3 col2\" >$44.10</td>\n",
       "            </tr>\n",
       "            <tr>\n",
       "                        <th id=\"T_f7b46b14_743d_11e9_83df_acde48001122level0_row4\" class=\"row_heading level0 row4\" >19</th>\n",
       "                        <th id=\"T_f7b46b14_743d_11e9_83df_acde48001122level1_row4\" class=\"row_heading level1 row4\" >Pursuit, Cudgel of Necromancy</th>\n",
       "                        <td id=\"T_f7b46b14_743d_11e9_83df_acde48001122row4_col0\" class=\"data row4 col0\" >8</td>\n",
       "                        <td id=\"T_f7b46b14_743d_11e9_83df_acde48001122row4_col1\" class=\"data row4 col1\" >$1.02</td>\n",
       "                        <td id=\"T_f7b46b14_743d_11e9_83df_acde48001122row4_col2\" class=\"data row4 col2\" >$8.16</td>\n",
       "            </tr>\n",
       "    </tbody></table>"
      ],
      "text/plain": [
       "<pandas.io.formats.style.Styler at 0x1170bec88>"
      ]
     },
     "execution_count": 138,
     "metadata": {},
     "output_type": "execute_result"
    }
   ],
   "source": [
    "#Optional: give the displayed data cleaner formatting\n",
    "mpi_desc.style.format(\n",
    "                        {\"Item Price\":\"${:,.2f}\",\n",
    "                         \"Total Purchase Value\":\"${:,.2f}\"})\n"
   ]
  },
  {
   "cell_type": "code",
   "execution_count": null,
   "metadata": {},
   "outputs": [],
   "source": [
    "#Display a preview of the summary data frame\n",
    "\n",
    "\n"
   ]
  },
  {
   "cell_type": "code",
   "execution_count": null,
   "metadata": {},
   "outputs": [],
   "source": []
  },
  {
   "cell_type": "markdown",
   "metadata": {},
   "source": [
    "## Most Profitable Items"
   ]
  },
  {
   "cell_type": "markdown",
   "metadata": {},
   "source": [
    "* Sort the above table by total purchase value in descending order\n",
    "\n",
    "\n",
    "* Optional: give the displayed data cleaner formatting\n",
    "\n",
    "\n",
    "* Display a preview of the data frame\n",
    "\n"
   ]
  },
  {
   "cell_type": "code",
   "execution_count": 139,
   "metadata": {
    "scrolled": true
   },
   "outputs": [
    {
     "data": {
      "text/html": [
       "<div>\n",
       "<style scoped>\n",
       "    .dataframe tbody tr th:only-of-type {\n",
       "        vertical-align: middle;\n",
       "    }\n",
       "\n",
       "    .dataframe tbody tr th {\n",
       "        vertical-align: top;\n",
       "    }\n",
       "\n",
       "    .dataframe thead th {\n",
       "        text-align: right;\n",
       "    }\n",
       "</style>\n",
       "<table border=\"1\" class=\"dataframe\">\n",
       "  <thead>\n",
       "    <tr style=\"text-align: right;\">\n",
       "      <th></th>\n",
       "      <th></th>\n",
       "      <th>Purchase Count</th>\n",
       "      <th>Item Price</th>\n",
       "      <th>Total Purchase Value</th>\n",
       "    </tr>\n",
       "    <tr>\n",
       "      <th>Item ID</th>\n",
       "      <th>Item Name</th>\n",
       "      <th></th>\n",
       "      <th></th>\n",
       "      <th></th>\n",
       "    </tr>\n",
       "  </thead>\n",
       "  <tbody>\n",
       "    <tr>\n",
       "      <th>178</th>\n",
       "      <th>Oathbreaker, Last Hope of the Breaking Storm</th>\n",
       "      <td>12</td>\n",
       "      <td>4.23</td>\n",
       "      <td>50.76</td>\n",
       "    </tr>\n",
       "    <tr>\n",
       "      <th>82</th>\n",
       "      <th>Nirvana</th>\n",
       "      <td>9</td>\n",
       "      <td>4.90</td>\n",
       "      <td>44.10</td>\n",
       "    </tr>\n",
       "    <tr>\n",
       "      <th>145</th>\n",
       "      <th>Fiery Glass Crusader</th>\n",
       "      <td>9</td>\n",
       "      <td>4.58</td>\n",
       "      <td>41.22</td>\n",
       "    </tr>\n",
       "    <tr>\n",
       "      <th>92</th>\n",
       "      <th>Final Critic</th>\n",
       "      <td>8</td>\n",
       "      <td>4.88</td>\n",
       "      <td>39.04</td>\n",
       "    </tr>\n",
       "    <tr>\n",
       "      <th>103</th>\n",
       "      <th>Singed Scalpel</th>\n",
       "      <td>8</td>\n",
       "      <td>4.35</td>\n",
       "      <td>34.80</td>\n",
       "    </tr>\n",
       "  </tbody>\n",
       "</table>\n",
       "</div>"
      ],
      "text/plain": [
       "                                                      Purchase Count  \\\n",
       "Item ID Item Name                                                      \n",
       "178     Oathbreaker, Last Hope of the Breaking Storm              12   \n",
       "82      Nirvana                                                    9   \n",
       "145     Fiery Glass Crusader                                       9   \n",
       "92      Final Critic                                               8   \n",
       "103     Singed Scalpel                                             8   \n",
       "\n",
       "                                                      Item Price  \\\n",
       "Item ID Item Name                                                  \n",
       "178     Oathbreaker, Last Hope of the Breaking Storm        4.23   \n",
       "82      Nirvana                                             4.90   \n",
       "145     Fiery Glass Crusader                                4.58   \n",
       "92      Final Critic                                        4.88   \n",
       "103     Singed Scalpel                                      4.35   \n",
       "\n",
       "                                                      Total Purchase Value  \n",
       "Item ID Item Name                                                           \n",
       "178     Oathbreaker, Last Hope of the Breaking Storm                 50.76  \n",
       "82      Nirvana                                                      44.10  \n",
       "145     Fiery Glass Crusader                                         41.22  \n",
       "92      Final Critic                                                 39.04  \n",
       "103     Singed Scalpel                                               34.80  "
      ]
     },
     "execution_count": 139,
     "metadata": {},
     "output_type": "execute_result"
    }
   ],
   "source": [
    "#Sort the above table by total purchase value in descending order\n",
    "mpi_desc  = most_popular_items_summary.sort_values([\"Total Purchase Value\"],ascending=False).head()\n",
    "mpi_desc"
   ]
  },
  {
   "cell_type": "code",
   "execution_count": 140,
   "metadata": {},
   "outputs": [
    {
     "data": {
      "text/html": [
       "<style  type=\"text/css\" >\n",
       "</style><table id=\"T_74326a58_743e_11e9_a20d_acde48001122\" ><thead>    <tr>        <th class=\"blank\" ></th>        <th class=\"blank level0\" ></th>        <th class=\"col_heading level0 col0\" >Purchase Count</th>        <th class=\"col_heading level0 col1\" >Item Price</th>        <th class=\"col_heading level0 col2\" >Total Purchase Value</th>    </tr>    <tr>        <th class=\"index_name level0\" >Item ID</th>        <th class=\"index_name level1\" >Item Name</th>        <th class=\"blank\" ></th>        <th class=\"blank\" ></th>        <th class=\"blank\" ></th>    </tr></thead><tbody>\n",
       "                <tr>\n",
       "                        <th id=\"T_74326a58_743e_11e9_a20d_acde48001122level0_row0\" class=\"row_heading level0 row0\" >178</th>\n",
       "                        <th id=\"T_74326a58_743e_11e9_a20d_acde48001122level1_row0\" class=\"row_heading level1 row0\" >Oathbreaker, Last Hope of the Breaking Storm</th>\n",
       "                        <td id=\"T_74326a58_743e_11e9_a20d_acde48001122row0_col0\" class=\"data row0 col0\" >12</td>\n",
       "                        <td id=\"T_74326a58_743e_11e9_a20d_acde48001122row0_col1\" class=\"data row0 col1\" >$4.23</td>\n",
       "                        <td id=\"T_74326a58_743e_11e9_a20d_acde48001122row0_col2\" class=\"data row0 col2\" >$50.76</td>\n",
       "            </tr>\n",
       "            <tr>\n",
       "                        <th id=\"T_74326a58_743e_11e9_a20d_acde48001122level0_row1\" class=\"row_heading level0 row1\" >82</th>\n",
       "                        <th id=\"T_74326a58_743e_11e9_a20d_acde48001122level1_row1\" class=\"row_heading level1 row1\" >Nirvana</th>\n",
       "                        <td id=\"T_74326a58_743e_11e9_a20d_acde48001122row1_col0\" class=\"data row1 col0\" >9</td>\n",
       "                        <td id=\"T_74326a58_743e_11e9_a20d_acde48001122row1_col1\" class=\"data row1 col1\" >$4.90</td>\n",
       "                        <td id=\"T_74326a58_743e_11e9_a20d_acde48001122row1_col2\" class=\"data row1 col2\" >$44.10</td>\n",
       "            </tr>\n",
       "            <tr>\n",
       "                        <th id=\"T_74326a58_743e_11e9_a20d_acde48001122level0_row2\" class=\"row_heading level0 row2\" >145</th>\n",
       "                        <th id=\"T_74326a58_743e_11e9_a20d_acde48001122level1_row2\" class=\"row_heading level1 row2\" >Fiery Glass Crusader</th>\n",
       "                        <td id=\"T_74326a58_743e_11e9_a20d_acde48001122row2_col0\" class=\"data row2 col0\" >9</td>\n",
       "                        <td id=\"T_74326a58_743e_11e9_a20d_acde48001122row2_col1\" class=\"data row2 col1\" >$4.58</td>\n",
       "                        <td id=\"T_74326a58_743e_11e9_a20d_acde48001122row2_col2\" class=\"data row2 col2\" >$41.22</td>\n",
       "            </tr>\n",
       "            <tr>\n",
       "                        <th id=\"T_74326a58_743e_11e9_a20d_acde48001122level0_row3\" class=\"row_heading level0 row3\" >92</th>\n",
       "                        <th id=\"T_74326a58_743e_11e9_a20d_acde48001122level1_row3\" class=\"row_heading level1 row3\" >Final Critic</th>\n",
       "                        <td id=\"T_74326a58_743e_11e9_a20d_acde48001122row3_col0\" class=\"data row3 col0\" >8</td>\n",
       "                        <td id=\"T_74326a58_743e_11e9_a20d_acde48001122row3_col1\" class=\"data row3 col1\" >$4.88</td>\n",
       "                        <td id=\"T_74326a58_743e_11e9_a20d_acde48001122row3_col2\" class=\"data row3 col2\" >$39.04</td>\n",
       "            </tr>\n",
       "            <tr>\n",
       "                        <th id=\"T_74326a58_743e_11e9_a20d_acde48001122level0_row4\" class=\"row_heading level0 row4\" >103</th>\n",
       "                        <th id=\"T_74326a58_743e_11e9_a20d_acde48001122level1_row4\" class=\"row_heading level1 row4\" >Singed Scalpel</th>\n",
       "                        <td id=\"T_74326a58_743e_11e9_a20d_acde48001122row4_col0\" class=\"data row4 col0\" >8</td>\n",
       "                        <td id=\"T_74326a58_743e_11e9_a20d_acde48001122row4_col1\" class=\"data row4 col1\" >$4.35</td>\n",
       "                        <td id=\"T_74326a58_743e_11e9_a20d_acde48001122row4_col2\" class=\"data row4 col2\" >$34.80</td>\n",
       "            </tr>\n",
       "    </tbody></table>"
      ],
      "text/plain": [
       "<pandas.io.formats.style.Styler at 0x1170be048>"
      ]
     },
     "execution_count": 140,
     "metadata": {},
     "output_type": "execute_result"
    }
   ],
   "source": [
    "#Optional: give the displayed data cleaner formatting\n",
    "mpi_desc.style.format({\"Item Price\":\"${:,.2f}\",\n",
    "                                \"Total Purchase Value\":\"${:,.2f}\"})\n"
   ]
  },
  {
   "cell_type": "code",
   "execution_count": null,
   "metadata": {},
   "outputs": [],
   "source": [
    "\n"
   ]
  }
 ],
 "metadata": {
  "anaconda-cloud": {},
  "kernel_info": {
   "name": "python3"
  },
  "kernelspec": {
   "display_name": "Python [conda env:PythonData] *",
   "language": "python",
   "name": "conda-env-PythonData-py"
  },
  "language_info": {
   "codemirror_mode": {
    "name": "ipython",
    "version": 3
   },
   "file_extension": ".py",
   "mimetype": "text/x-python",
   "name": "python",
   "nbconvert_exporter": "python",
   "pygments_lexer": "ipython3",
   "version": "3.6.8"
  },
  "nteract": {
   "version": "0.2.0"
  }
 },
 "nbformat": 4,
 "nbformat_minor": 2
}
